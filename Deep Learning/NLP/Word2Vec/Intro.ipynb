{
 "cells": [
  {
   "cell_type": "markdown",
   "metadata": {
    "colab_type": "text",
    "id": "DRQ5KTri30bT"
   },
   "source": [
    "### Word Embbedding\n",
    "\n",
    "Word Embedding là một trong những cách phổ biến nhất trong việc biểu diễn từ vựng của các văn bản. Kỹ thuật này biểu diễn mỗi một từ vựng tương ứng với một vector. Nó có khả năng nắm bắt được ngữ cảnh của một từ trong văn bản, sự tương đồng về nghĩa và ngữ pháp, mối quan hệ đối với các từ khác ..."
   ]
  },
  {
   "cell_type": "markdown",
   "metadata": {
    "colab_type": "text",
    "id": "FZMCqt0T4xZN"
   },
   "source": [
    "### Word2Vec\n",
    "\n",
    "Word2Vec lại là một trong những kỹ thuật phổ biến nhất để word embedding bằng mạng nơron nhân tạo (neural network)\n",
    "\n",
    "Có thể tìm hiểu thêm thông tin [tại đây](https://arxiv.org/pdf/1310.4546.pdf)\n",
    "\n",
    "Word2Vec sử dụng một lượng lớn dữ liệu văn bản (corpus) và xây dựng nên một không gian vector. Mà ở đó mỗi từ sẽ tương ứng một vector trong không gian đó (khoảng vài trăn chiều). \n",
    "\n",
    "Ý tưởng chính của Word2Vec là thay thế cách biểu diễn một từ bằng one-hot (countvectorizer/tfidvectorizer) trong high-dimensional space được biểu diễn trong low-dimension space một cách dày đặc. Những từ có chung nghĩa giống nhau hoặc gần giống nhau sẽ được đặt gần nhau. \n",
    "\n",
    "Có hai mô hình nổi tiếng là:\n",
    "* Continuous Bag-of-Words (CBOW)\n",
    "* Skip-Gram\n",
    "\n",
    "<img src='https://www.researchgate.net/publication/328160770/figure/fig14/AS:679665089925122@1539056193562/CBOW-and-Skip-Gram-neural-architectures.ppm' width='70%'></img>"
   ]
  },
  {
   "cell_type": "markdown",
   "metadata": {
    "colab_type": "text",
    "id": "K2XVDUj1tqek"
   },
   "source": [
    "### Skip Gram \n",
    "\n",
    "Chúng ta sẽ tìm hiểu về mô hình **Skip Gram**\n",
    "Đây là kiến trúc của mô hình\n",
    "<img src='https://miro.medium.com/max/700/1*9XxSnprkyh2I7Jts4lpxAg.png' width='70%'></img>\n",
    "\n",
    "\n",
    "Trong đó:\n",
    "* Input Layer: Là một vector mà mỗi từ được mã hóa thành 1 one-hot vector, giá trị 1 tương ứng với vị trí (index) của từ trong từ điển.\n",
    "* Khi nhân vector đầu vào với một ma trận trọng số, thì chúng ta sẽ được một vector khác tương ứng với hàng của ma trận trọng số đó. \n",
    "\n",
    "<img src='https://miro.medium.com/max/700/1*HxUIgAhn4VSHqr9gn6SsBA.png' width='70%'></img>"
   ]
  }
 ],
 "metadata": {
  "accelerator": "GPU",
  "colab": {
   "name": "Intro.ipynb",
   "provenance": []
  },
  "kernelspec": {
   "display_name": "Python 3",
   "language": "python",
   "name": "python3"
  },
  "language_info": {
   "codemirror_mode": {
    "name": "ipython",
    "version": 3
   },
   "file_extension": ".py",
   "mimetype": "text/x-python",
   "name": "python",
   "nbconvert_exporter": "python",
   "pygments_lexer": "ipython3",
   "version": "3.6.9"
  }
 },
 "nbformat": 4,
 "nbformat_minor": 1
}
