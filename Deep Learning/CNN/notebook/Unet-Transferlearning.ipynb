{
  "nbformat": 4,
  "nbformat_minor": 0,
  "metadata": {
    "colab": {
      "name": "Unet-Transferlearning.ipynb",
      "provenance": [],
      "toc_visible": true,
      "machine_shape": "hm"
    },
    "kernelspec": {
      "name": "python3",
      "display_name": "Python 3"
    },
    "accelerator": "GPU"
  },
  "cells": [
    {
      "cell_type": "markdown",
      "metadata": {
        "id": "jPjh0qGvaS55",
        "colab_type": "text"
      },
      "source": [
        "### Transfer Learning\n",
        "\n",
        "Chúng ta sẽ tiến hành xâu dựng mô hình Unet với pretrained model là Resnet 50.\n",
        "\n",
        "Mô hình cần xây dựng là mô hình segmentation tóc.\n",
        "\n",
        "Xây dựng chương trình với Tensorflow 2.3"
      ]
    },
    {
      "cell_type": "code",
      "metadata": {
        "id": "IaTYPDbTa8k9",
        "colab_type": "code",
        "colab": {
          "base_uri": "https://localhost:8080/",
          "height": 357
        },
        "outputId": "6cdbfac5-9a66-4d79-e874-2905a5e30ac0"
      },
      "source": [
        "! nvidia-smi"
      ],
      "execution_count": null,
      "outputs": [
        {
          "output_type": "stream",
          "text": [
            "Thu Sep 17 23:46:19 2020       \n",
            "+-----------------------------------------------------------------------------+\n",
            "| NVIDIA-SMI 450.66       Driver Version: 418.67       CUDA Version: 10.1     |\n",
            "|-------------------------------+----------------------+----------------------+\n",
            "| GPU  Name        Persistence-M| Bus-Id        Disp.A | Volatile Uncorr. ECC |\n",
            "| Fan  Temp  Perf  Pwr:Usage/Cap|         Memory-Usage | GPU-Util  Compute M. |\n",
            "|                               |                      |               MIG M. |\n",
            "|===============================+======================+======================|\n",
            "|   0  Tesla V100-SXM2...  Off  | 00000000:00:04.0 Off |                    0 |\n",
            "| N/A   33C    P0    26W / 300W |      0MiB / 16130MiB |      0%      Default |\n",
            "|                               |                      |                 ERR! |\n",
            "+-------------------------------+----------------------+----------------------+\n",
            "                                                                               \n",
            "+-----------------------------------------------------------------------------+\n",
            "| Processes:                                                                  |\n",
            "|  GPU   GI   CI        PID   Type   Process name                  GPU Memory |\n",
            "|        ID   ID                                                   Usage      |\n",
            "|=============================================================================|\n",
            "|  No running processes found                                                 |\n",
            "+-----------------------------------------------------------------------------+\n"
          ],
          "name": "stdout"
        }
      ]
    },
    {
      "cell_type": "markdown",
      "metadata": {
        "id": "NAeCnpVycBFY",
        "colab_type": "text"
      },
      "source": [
        "### Tiến hành tải và giải dữ liệu\n",
        "\n",
        "Tiến hành tải và giải dữ liệu\n",
        "Link dữ liệu tại đây\n",
        "\n",
        "Có hai loại dữ liệu có kích thước nhỏ và lớn\n",
        "\n",
        "Code tải dữ liệu:\n",
        "\n",
        "Nhỏ: ```wget --load-cookies /tmp/cookies.txt \"https://docs.google.com/uc?export=download&confirm=$(wget --quiet --save-cookies /tmp/cookies.txt --keep-session-cookies --no-check-certificate 'https://docs.google.com/uc?export=download&id=1-9eY2slA6ZmdBLLEExdxhLcavm0bPZua' -O- | sed -rn 's/.*confirm=([0-9A-Za-z_]+).*/\\1\\n/p')&id=1-9eY2slA6ZmdBLLEExdxhLcavm0bPZua\" -O dataset.zip && rm -rf /tmp/cookies.txt```\n",
        "\n",
        "Lớn: ```wget --load-cookies /tmp/cookies.txt \"https://docs.google.com/uc?export=download&confirm=$(wget --quiet --save-cookies /tmp/cookies.txt --keep-session-cookies --no-check-certificate 'https://docs.google.com/uc?export=download&id=1hGVJJ0MERaP1ouEc_vcfFg1nS9aHeYw3' -O- | sed -rn 's/.*confirm=([0-9A-Za-z_]+).*/\\1\\n/p')&id=1hGVJJ0MERaP1ouEc_vcfFg1nS9aHeYw3\" -O dataset-large.zip && rm -rf /tmp/cookies.txt```"
      ]
    },
    {
      "cell_type": "code",
      "metadata": {
        "id": "26D_8V8LcmVF",
        "colab_type": "code",
        "colab": {}
      },
      "source": [
        "! wget --load-cookies /tmp/cookies.txt \"https://docs.google.com/uc?export=download&confirm=$(wget --quiet --save-cookies /tmp/cookies.txt --keep-session-cookies --no-check-certificate 'https://docs.google.com/uc?export=download&id=1hGVJJ0MERaP1ouEc_vcfFg1nS9aHeYw3' -O- | sed -rn 's/.*confirm=([0-9A-Za-z_]+).*/\\1\\n/p')&id=1hGVJJ0MERaP1ouEc_vcfFg1nS9aHeYw3\" -O dataset-large.zip && rm -rf /tmp/cookies.txt"
      ],
      "execution_count": null,
      "outputs": []
    },
    {
      "cell_type": "code",
      "metadata": {
        "id": "EzG1aBOzedV2",
        "colab_type": "code",
        "colab": {}
      },
      "source": [
        "! mkdir dataset\n",
        "! mkdir trained_model"
      ],
      "execution_count": null,
      "outputs": []
    },
    {
      "cell_type": "code",
      "metadata": {
        "id": "ayKrkItGdoUB",
        "colab_type": "code",
        "colab": {}
      },
      "source": [
        "! unzip /content/dataset-large.zip -d /content/dataset/"
      ],
      "execution_count": null,
      "outputs": []
    },
    {
      "cell_type": "markdown",
      "metadata": {
        "id": "gn-Q6Yc8f9vr",
        "colab_type": "text"
      },
      "source": [
        "### Xây dựng chương trình"
      ]
    },
    {
      "cell_type": "code",
      "metadata": {
        "id": "cb9_QMJygEew",
        "colab_type": "code",
        "colab": {}
      },
      "source": [
        "import os \n",
        "import cv2\n",
        "import json\n",
        "import random\n",
        "import numpy as np\n",
        "from glob import glob\n",
        "from os.path import join\n",
        "import tensorflow as tf\n",
        "import matplotlib.pyplot as plt\n",
        "from tensorflow.keras.layers import Conv2D, Activation, BatchNormalization\n",
        "from tensorflow.keras.layers import UpSampling2D, Input, Concatenate, Flatten\n",
        "from tensorflow.keras.models import Model\n",
        "from tensorflow.keras.utils import Sequence\n",
        "from tensorflow.keras.applications import ResNet50\n",
        "from tensorflow.keras.metrics import Recall, Precision"
      ],
      "execution_count": null,
      "outputs": []
    },
    {
      "cell_type": "markdown",
      "metadata": {
        "id": "uv1qED1VgNhx",
        "colab_type": "text"
      },
      "source": [
        "### Load và Write json"
      ]
    },
    {
      "cell_type": "code",
      "metadata": {
        "id": "t9B_ZvDpgWFe",
        "colab_type": "code",
        "colab": {}
      },
      "source": [
        "\n",
        "def load_json(json_file):\n",
        "    with open(json_file, 'r') as file:\n",
        "        return json.loads(file.read())\n",
        "\n",
        "\n",
        "def write_json(json_file, arr):\n",
        "    with open(json_file, 'w') as file:\n",
        "        json.dump(arr, file, indent=4)"
      ],
      "execution_count": null,
      "outputs": []
    },
    {
      "cell_type": "markdown",
      "metadata": {
        "id": "PNGl42wwgZGv",
        "colab_type": "text"
      },
      "source": [
        "### Data Augmentation"
      ]
    },
    {
      "cell_type": "code",
      "metadata": {
        "id": "EoIn7QGlgi_0",
        "colab_type": "code",
        "colab": {}
      },
      "source": [
        "class ToTensor(object):\n",
        "\n",
        "    def __call__(self, img, mask):\n",
        "        \"\"\"\n",
        "        Convert Image to Tensorflow Tensor\n",
        "        :param img:\n",
        "        :param mask:\n",
        "        :return: img, mask\n",
        "        \"\"\"\n",
        "        img = tf.convert_to_tensor(img)\n",
        "        mask = tf.convert_to_tensor(mask)\n",
        "        return img, mask\n",
        "\n",
        "\n",
        "class Normalize(object):\n",
        "    def __init__(self, std, mean):\n",
        "        super(Normalize, self).__init__()\n",
        "        self.std = std\n",
        "        self.mean = mean\n",
        "\n",
        "    def __call__(self, img, mask):\n",
        "        \"\"\"\n",
        "        Normalize image with mean and std of imagenet dataset\n",
        "        :param img:\n",
        "        :param mask\n",
        "        :return: img, mask\n",
        "        \"\"\"\n",
        "        img = img / 255.0\n",
        "        mask = mask / 255.0\n",
        "        img -= self.mean\n",
        "        img /= self.std\n",
        "        return img, mask\n",
        "\n",
        "\n",
        "class RandomFlip(object):\n",
        "\n",
        "    def __call__(self, img, mask):\n",
        "        \"\"\"\n",
        "        Flip image and mask, the image will be flipped hôintal, vertical or both\n",
        "        :param img:\n",
        "        :param mask:\n",
        "        :return: img, mask\n",
        "        \"\"\"\n",
        "        if random.choice([0, 1]):\n",
        "            print(1)\n",
        "            axis = random.choice([-1, 0, 1])\n",
        "            img = cv2.flip(img, axis)\n",
        "            mask = cv2.flip(img, axis)\n",
        "\n",
        "        return img, mask\n",
        "\n",
        "\n",
        "class Resize(object):\n",
        "    def __init__(self, dim):\n",
        "        super(Resize, self).__init__()\n",
        "        self.dim = dim\n",
        "\n",
        "    def __call__(self, img, mask):\n",
        "        \"\"\"\n",
        "        Resize image with shape(width, height)\n",
        "        :param img:\n",
        "        :param mask:\n",
        "        :return: img, mask\n",
        "        \"\"\"\n",
        "        img = cv2.resize(img, self.dim)\n",
        "        mask = cv2.resize(mask, self.dim)\n",
        "        return img, mask\n",
        "\n",
        "\n",
        "class RandomRotate(object):\n",
        "    def __call__(self, img, mask):\n",
        "        \"\"\"\n",
        "        Rotate image with random degree\n",
        "        :param img:\n",
        "        :param mask:\n",
        "        :return:\n",
        "        \"\"\"\n",
        "        degree = random.uniform(0, 360)\n",
        "        h, w = img.shape[:2]\n",
        "        c = cv2.getRotationMatrix2D((w/2, h/2), degree, scale=1.0)\n",
        "\n",
        "        img = cv2.warpAffine(img, c, img.shape[:2])\n",
        "        mask = cv2.warpAffine(mask, c, img.shape[:2])\n",
        "\n",
        "        return img, mask\n",
        "\n",
        "\n",
        "class RandomCrop(object):\n",
        "    def __init__(self, dim):\n",
        "        super(RandomCrop, self).__init__()\n",
        "        self.dim = dim\n",
        "\n",
        "    def __call__(self, img, mask):\n",
        "        \"\"\"\n",
        "        Crop image with fixed shape and random\n",
        "        :param img:\n",
        "        :param mask:\n",
        "        :return: img, mask\n",
        "        \"\"\"\n",
        "        h, w = img.shape[:2]\n",
        "        y = random.randint(0, h - self.dim[1])\n",
        "        x = random.randint(0, w - self.dim[0])\n",
        "\n",
        "        img = img[y:y+self.dim[1], x:x + self.dim[0]]\n",
        "        mask = mask[y:y + self.dim[1], x:x + self.dim[0]]\n",
        "\n",
        "        return img, mask\n",
        "\n",
        "\n",
        "class RandomGaussianBlur(object):\n",
        "\n",
        "    def __call__(self, img, mask):\n",
        "        '''\n",
        "        Blur image using Gaussian with random radius\n",
        "        :param img:\n",
        "        :param mask:\n",
        "        :return: img, mask\n",
        "        '''\n",
        "        if random.choice([0, 1]):\n",
        "            radius = random.choice([1, 3, 5])\n",
        "            img = cv2.GaussianBlur(img, (radius, radius), 0)\n",
        "\n",
        "        return img, mask\n",
        "\n",
        "\n",
        "class ChangeBrightness(object):\n",
        "\n",
        "    def __call__(self, img, mask):\n",
        "        \"\"\"\n",
        "        Change Brightness of image, image can be brighter, darker or not\n",
        "        :param img:\n",
        "        :param mask:\n",
        "        :return: img, mask\n",
        "        \"\"\"\n",
        "        if random.choice([0, 1]):\n",
        "            lookUpTable = np.empty((1, 256), np.uint8)\n",
        "            gamma = random.uniform(0.1, 3)\n",
        "            for i in range(256):\n",
        "                lookUpTable[0, i] = np.clip(pow(i / 255.0, gamma) * 255.0, 0, 255)\n",
        "            img = cv2.LUT(img, lookUpTable)\n",
        "\n",
        "        return img, mask"
      ],
      "execution_count": null,
      "outputs": []
    },
    {
      "cell_type": "markdown",
      "metadata": {
        "id": "RsxsXySzg1Ou",
        "colab_type": "text"
      },
      "source": [
        "### Data Generator \n",
        "\n",
        "Xây dựng chương trình loader cho dữ liệu"
      ]
    },
    {
      "cell_type": "code",
      "metadata": {
        "id": "NcRLVCOPhSMW",
        "colab_type": "code",
        "colab": {}
      },
      "source": [
        "class Dataset(Sequence):\n",
        "    def __init__(self, imgs, phase='Training', batch_size=8):\n",
        "        self.phase = phase\n",
        "        self.batch_size = batch_size\n",
        "        self.imgs = imgs\n",
        "\n",
        "\n",
        "    def load_data(self, imgs_batch):\n",
        "        imgs = list()\n",
        "        masks = list()\n",
        "\n",
        "        for img_name in imgs_batch:\n",
        "            img_path = join(img_paths, self.phase, img_name)\n",
        "            mask_path = join(mask_paths, self.phase, img_name.split('.')[0] + '.png')\n",
        "\n",
        "            img = cv2.imread(img_path)\n",
        "            mask = cv2.imread(mask_path)\n",
        "\n",
        "            if self.phase == 'Training':\n",
        "                img, mask = self.train_transform(img, mask)\n",
        "            else:\n",
        "                img, mask = self.val_transfrom(img, mask)\n",
        "\n",
        "            imgs.append(img)\n",
        "            masks.append(mask)\n",
        "\n",
        "        imgs = tf.convert_to_tensor(imgs)\n",
        "        masks = tf.convert_to_tensor(masks)\n",
        "\n",
        "        return imgs, masks\n",
        "\n",
        "\n",
        "    def train_transform(self, img, mask):\n",
        "        img, mask = Resize(dim=(256, 256))(img, mask)\n",
        "        img, mask = RandomRotate()(img, mask)\n",
        "        img, mask = ChangeBrightness()(img, mask)\n",
        "        img, mask = RandomGaussianBlur()(img, mask)\n",
        "        img, mask = RandomCrop(dim=(224, 224))(img, mask)\n",
        "        img, mask = Normalize(std=[0.229, 0.224, 0.225],\n",
        "                              mean=[0.485, 0.456, 0.406])(img, mask)\n",
        "        img, mask = ToTensor()(img, mask[:, :, 0])\n",
        "\n",
        "        return img, mask\n",
        "\n",
        "\n",
        "    def val_transfrom(self, img, mask):\n",
        "        img, mask = Resize(dim=(256, 256))(img, mask)\n",
        "        img, mask = RandomCrop(dim=(224, 224))(img, mask)\n",
        "        img, mask = Normalize(std=[0.229, 0.224, 0.225],\n",
        "                              mean=[0.485, 0.456, 0.406])(img, mask)\n",
        "        img, mask = ToTensor()(img, mask[:, :, 0])\n",
        "\n",
        "        return img, mask\n",
        "\n",
        "\n",
        "    def __getitem__(self, index):\n",
        "\n",
        "        stop = (index + 1)*self.batch_size\n",
        "\n",
        "        if stop > len(self.imgs):\n",
        "            stop = len(self.imgs)\n",
        "\n",
        "        imgs_batch = self.imgs[index*self.batch_size:stop]\n",
        "        imgs, masks = self.load_data(imgs_batch)\n",
        "\n",
        "        return imgs, masks\n",
        "\n",
        "\n",
        "    def __len__(self):\n",
        "        return int(np.ceil(len(self.imgs) / self.batch_size))"
      ],
      "execution_count": null,
      "outputs": []
    },
    {
      "cell_type": "markdown",
      "metadata": {
        "id": "tfyrcUItho16",
        "colab_type": "text"
      },
      "source": [
        "### Mô hình \n",
        "\n",
        "Xây dựng kiến trúc cho mô hình hair segmentation.\n",
        "\n",
        "Kiến trúc: Unet + Resnet 50"
      ]
    },
    {
      "cell_type": "code",
      "metadata": {
        "id": "z9X9xdZJh0kI",
        "colab_type": "code",
        "colab": {}
      },
      "source": [
        "def Unet():\n",
        "    inputs = Input(shape=(224, 224, 3), name=\"input_image\")\n",
        "    backbone = ResNet50(input_tensor=inputs, weights='imagenet', include_top=False)\n",
        "    input_layer = backbone.get_layer(name='input_image')\n",
        "    layer0 = backbone.get_layer(name='conv1_relu')\n",
        "    layer1 = backbone.get_layer(name='conv2_block1_out')\n",
        "    layer2 = backbone.get_layer(name='conv3_block2_out')\n",
        "    layer3 = backbone.get_layer(name='conv4_block3_out')\n",
        "    out_layer = backbone.get_layer(name='conv5_block2_out')\n",
        "\n",
        "\n",
        "    encoder_out = out_layer.output\n",
        "    x = up_sample(layer3, encoder_out, 1024)\n",
        "    x = up_sample(layer2, x, 512)\n",
        "    x = up_sample(layer1, x, 256)\n",
        "    x = up_sample(layer0, x, 64)\n",
        "    x = up_sample(input_layer, x, 32)\n",
        "\n",
        "    x = Conv2D(1, (1, 1), padding=\"same\")(x)\n",
        "    out = Activation(\"sigmoid\")(x)\n",
        "    model = Model(inputs, out)\n",
        "    return model\n",
        "\n",
        "def conv_block(filters, x):\n",
        "    x = Conv2D(filters=filters,\n",
        "               kernel_size=(3, 3),\n",
        "               padding='same',\n",
        "               activation='relu')(x)\n",
        "\n",
        "    x = BatchNormalization()(x)\n",
        "\n",
        "    x = Conv2D(filters=filters,\n",
        "               kernel_size=(3, 3),\n",
        "               padding='same',\n",
        "               activation='relu')(x)\n",
        "    out = BatchNormalization()(x)\n",
        "    return out\n",
        "\n",
        "def up_sample( layer, input, filters):\n",
        "    x1 = layer.output\n",
        "    x = UpSampling2D((2, 2))(input)\n",
        "    x = Concatenate()([x, x1])\n",
        "\n",
        "    out = conv_block(filters, x)\n",
        "\n",
        "    return out"
      ],
      "execution_count": null,
      "outputs": []
    },
    {
      "cell_type": "markdown",
      "metadata": {
        "id": "cBWG0Qb6k-e8",
        "colab_type": "text"
      },
      "source": [
        "### Metrics"
      ]
    },
    {
      "cell_type": "code",
      "metadata": {
        "id": "WH1PuF0ClA1a",
        "colab_type": "code",
        "colab": {}
      },
      "source": [
        "smooth = 1e-15\n",
        "def iou(y_true, y_pred):\n",
        "    y_true = tf.keras.layers.Flatten()(y_true)\n",
        "    y_pred = tf.keras.layers.Flatten()(y_pred)\n",
        "    intersection = tf.reduce_sum(y_true * y_pred)\n",
        "    union = tf.reduce_sum(y_true) + tf.reduce_sum(y_pred) - intersection\n",
        "    return (intersection + smooth) / (union + smooth)\n",
        "\n",
        "def iou_loss(y_true, y_pred):\n",
        "    return 1.0 - iou(y_true, y_pred)"
      ],
      "execution_count": null,
      "outputs": []
    },
    {
      "cell_type": "markdown",
      "metadata": {
        "id": "WCB7KKXMh8VM",
        "colab_type": "text"
      },
      "source": [
        "### Huấn luyện mô hình"
      ]
    },
    {
      "cell_type": "code",
      "metadata": {
        "id": "ZtBVlZqYiBxX",
        "colab_type": "code",
        "colab": {}
      },
      "source": [
        "img_paths = 'dataset/Original'\n",
        "mask_paths = 'dataset/MASKS'\n",
        "model_path = 'trained_model/hair_segmentation.h5'\n",
        "json_path = 'dataset/data.json'"
      ],
      "execution_count": null,
      "outputs": []
    },
    {
      "cell_type": "code",
      "metadata": {
        "id": "RZC7rzTliegs",
        "colab_type": "code",
        "colab": {}
      },
      "source": [
        "# Tham số huấn luyện mô hình \n",
        "batch_size = 32\n",
        "lr = 1e-3\n",
        "epochs = 12\n",
        "momentum = 0.9\n",
        "num_classes = 1"
      ],
      "execution_count": null,
      "outputs": []
    },
    {
      "cell_type": "code",
      "metadata": {
        "id": "f8j32KyFire4",
        "colab_type": "code",
        "colab": {}
      },
      "source": [
        "# Load dữ liệu \n",
        "data = load_json(json_path)\n",
        "test_loader = Dataset(data['test'], phase='Testing', batch_size=batch_size)\n",
        "train_loader = Dataset(data['train'], phase='Training', batch_size=batch_size)"
      ],
      "execution_count": null,
      "outputs": []
    },
    {
      "cell_type": "code",
      "metadata": {
        "id": "_0cNJ4qSi34J",
        "colab_type": "code",
        "colab": {}
      },
      "source": [
        "# load model\n",
        "model = Unet()\n",
        "\n",
        "losses = tf.keras.losses.BinaryCrossentropy()\n",
        "optimizer = tf.keras.optimizers.SGD(learning_rate=lr, momentum=momentum)\n",
        "metrics = [iou, Recall(), Precision()]"
      ],
      "execution_count": null,
      "outputs": []
    },
    {
      "cell_type": "code",
      "metadata": {
        "id": "mWvjIVnyBt32",
        "colab_type": "code",
        "colab": {}
      },
      "source": [
        "# Lập lịch cho learning rate\n",
        "def scheduler(epoch, lr):\n",
        "  if epoch < 4:\n",
        "    return lr\n",
        "  else:\n",
        "    return lr * tf.math.exp(-0.1)"
      ],
      "execution_count": null,
      "outputs": []
    },
    {
      "cell_type": "code",
      "metadata": {
        "id": "IdnBNh-hjUn9",
        "colab_type": "code",
        "colab": {
          "base_uri": "https://localhost:8080/",
          "height": 462
        },
        "outputId": "49d89496-a806-4286-b967-c5d845e20265"
      },
      "source": [
        "# huấn luyện \n",
        "model.compile(optimizer=optimizer, loss=iou_loss, metrics=metrics)\n",
        "callback = tf.keras.callbacks.LearningRateScheduler(scheduler)\n",
        "\n",
        "model.fit_generator(train_loader,\n",
        "                    steps_per_epoch=len(train_loader),\n",
        "                    epochs=epochs,\n",
        "                    callbacks=[callback],\n",
        "                    validation_data=test_loader,\n",
        "                    validation_steps=len(test_loader))"
      ],
      "execution_count": null,
      "outputs": [
        {
          "output_type": "stream",
          "text": [
            "Epoch 1/12\n",
            "733/733 [==============================] - 745s 1s/step - loss: 0.2880 - iou: 0.7121 - recall_1: 0.8904 - precision_1: 0.8026 - val_loss: 0.1818 - val_iou: 0.8182 - val_recall_1: 0.8920 - val_precision_1: 0.9219\n",
            "Epoch 2/12\n",
            "733/733 [==============================] - 741s 1s/step - loss: 0.1783 - iou: 0.8217 - recall_1: 0.9009 - precision_1: 0.9164 - val_loss: 0.1412 - val_iou: 0.8588 - val_recall_1: 0.9265 - val_precision_1: 0.9304\n",
            "Epoch 3/12\n",
            "733/733 [==============================] - 720s 983ms/step - loss: 0.1582 - iou: 0.8418 - recall_1: 0.9054 - precision_1: 0.9297 - val_loss: 0.1321 - val_iou: 0.8679 - val_recall_1: 0.9428 - val_precision_1: 0.9235\n",
            "Epoch 4/12\n",
            "733/733 [==============================] - 722s 985ms/step - loss: 0.1481 - iou: 0.8519 - recall_1: 0.9082 - precision_1: 0.9359 - val_loss: 0.1233 - val_iou: 0.8767 - val_recall_1: 0.9370 - val_precision_1: 0.9371\n",
            "Epoch 5/12\n",
            "733/733 [==============================] - 719s 981ms/step - loss: 0.1402 - iou: 0.8598 - recall_1: 0.9110 - precision_1: 0.9409 - val_loss: 0.1205 - val_iou: 0.8796 - val_recall_1: 0.9306 - val_precision_1: 0.9447\n",
            "Epoch 6/12\n",
            "733/733 [==============================] - 723s 986ms/step - loss: 0.1360 - iou: 0.8640 - recall_1: 0.9121 - precision_1: 0.9436 - val_loss: 0.1147 - val_iou: 0.8853 - val_recall_1: 0.9399 - val_precision_1: 0.9427\n",
            "Epoch 7/12\n",
            "733/733 [==============================] - 722s 985ms/step - loss: 0.1330 - iou: 0.8670 - recall_1: 0.9130 - precision_1: 0.9457 - val_loss: 0.1139 - val_iou: 0.8861 - val_recall_1: 0.9383 - val_precision_1: 0.9445\n",
            "Epoch 8/12\n",
            "733/733 [==============================] - 715s 975ms/step - loss: 0.1302 - iou: 0.8698 - recall_1: 0.9144 - precision_1: 0.9470 - val_loss: 0.1133 - val_iou: 0.8867 - val_recall_1: 0.9436 - val_precision_1: 0.9403\n",
            "Epoch 9/12\n",
            "733/733 [==============================] - 717s 978ms/step - loss: 0.1283 - iou: 0.8717 - recall_1: 0.9157 - precision_1: 0.9477 - val_loss: 0.1113 - val_iou: 0.8888 - val_recall_1: 0.9405 - val_precision_1: 0.9451\n",
            "Epoch 10/12\n",
            "733/733 [==============================] - 728s 993ms/step - loss: 0.1267 - iou: 0.8734 - recall_1: 0.9162 - precision_1: 0.9487 - val_loss: 0.1097 - val_iou: 0.8903 - val_recall_1: 0.9375 - val_precision_1: 0.9492\n",
            "Epoch 11/12\n",
            "733/733 [==============================] - 725s 989ms/step - loss: 0.1253 - iou: 0.8747 - recall_1: 0.9163 - precision_1: 0.9499 - val_loss: 0.1086 - val_iou: 0.8914 - val_recall_1: 0.9366 - val_precision_1: 0.9513\n",
            "Epoch 12/12\n",
            "733/733 [==============================] - 727s 992ms/step - loss: 0.1242 - iou: 0.8758 - recall_1: 0.9169 - precision_1: 0.9506 - val_loss: 0.1077 - val_iou: 0.8923 - val_recall_1: 0.9409 - val_precision_1: 0.9482\n"
          ],
          "name": "stdout"
        },
        {
          "output_type": "execute_result",
          "data": {
            "text/plain": [
              "<tensorflow.python.keras.callbacks.History at 0x7f0ba6524940>"
            ]
          },
          "metadata": {
            "tags": []
          },
          "execution_count": 29
        }
      ]
    },
    {
      "cell_type": "code",
      "metadata": {
        "id": "26u1fDv9kdab",
        "colab_type": "code",
        "colab": {}
      },
      "source": [
        "model.save(model_path)"
      ],
      "execution_count": null,
      "outputs": []
    },
    {
      "cell_type": "markdown",
      "metadata": {
        "id": "88qTeb-LjDU7",
        "colab_type": "text"
      },
      "source": [
        "### Download model "
      ]
    },
    {
      "cell_type": "code",
      "metadata": {
        "id": "YBD_9lzpjGJP",
        "colab_type": "code",
        "colab": {
          "base_uri": "https://localhost:8080/",
          "height": 34
        },
        "outputId": "7e7ff88f-7b3f-41f6-b2cc-db0950b3aaee"
      },
      "source": [
        "from google.colab import files\n",
        "files.download(model_path) "
      ],
      "execution_count": null,
      "outputs": [
        {
          "output_type": "display_data",
          "data": {
            "application/javascript": [
              "\n",
              "    async function download(id, filename, size) {\n",
              "      if (!google.colab.kernel.accessAllowed) {\n",
              "        return;\n",
              "      }\n",
              "      const div = document.createElement('div');\n",
              "      const label = document.createElement('label');\n",
              "      label.textContent = `Downloading \"${filename}\": `;\n",
              "      div.appendChild(label);\n",
              "      const progress = document.createElement('progress');\n",
              "      progress.max = size;\n",
              "      div.appendChild(progress);\n",
              "      document.body.appendChild(div);\n",
              "\n",
              "      const buffers = [];\n",
              "      let downloaded = 0;\n",
              "\n",
              "      const channel = await google.colab.kernel.comms.open(id);\n",
              "      // Send a message to notify the kernel that we're ready.\n",
              "      channel.send({})\n",
              "\n",
              "      for await (const message of channel.messages) {\n",
              "        // Send a message to notify the kernel that we're ready.\n",
              "        channel.send({})\n",
              "        if (message.buffers) {\n",
              "          for (const buffer of message.buffers) {\n",
              "            buffers.push(buffer);\n",
              "            downloaded += buffer.byteLength;\n",
              "            progress.value = downloaded;\n",
              "          }\n",
              "        }\n",
              "      }\n",
              "      const blob = new Blob(buffers, {type: 'application/binary'});\n",
              "      const a = document.createElement('a');\n",
              "      a.href = window.URL.createObjectURL(blob);\n",
              "      a.download = filename;\n",
              "      div.appendChild(a);\n",
              "      a.click();\n",
              "      div.remove();\n",
              "    }\n",
              "  "
            ],
            "text/plain": [
              "<IPython.core.display.Javascript object>"
            ]
          },
          "metadata": {
            "tags": []
          }
        },
        {
          "output_type": "display_data",
          "data": {
            "application/javascript": [
              "download(\"download_a965281f-f49b-4b13-87cb-5c65e83bc793\", \"hair_segmentation.h5\", 552255016)"
            ],
            "text/plain": [
              "<IPython.core.display.Javascript object>"
            ]
          },
          "metadata": {
            "tags": []
          }
        }
      ]
    },
    {
      "cell_type": "markdown",
      "metadata": {
        "id": "2r2ObT_Dmnvt",
        "colab_type": "text"
      },
      "source": [
        "### Test mô hình "
      ]
    },
    {
      "cell_type": "code",
      "metadata": {
        "id": "W4Xb3Gxhmi9D",
        "colab_type": "code",
        "colab": {}
      },
      "source": [
        "def preprocessing(img):\n",
        "  img, mask = Resize(dim=(224, 224))(img, img)\n",
        "  img, mask = Normalize(std=[0.229, 0.224, 0.225],\n",
        "                        mean=[0.485, 0.456, 0.406])(img, mask)\n",
        "  img, _ = ToTensor()(img, mask[:, :, 0])\n",
        "\n",
        "  return img\n"
      ],
      "execution_count": null,
      "outputs": []
    },
    {
      "cell_type": "code",
      "metadata": {
        "id": "kUmQ5jagnSgB",
        "colab_type": "code",
        "colab": {}
      },
      "source": [
        "img = cv2.imread('/content/dataset/Original/Testing/Frame00583-org.jpg')\n",
        "img1 = preprocessing(img)\n",
        "img1 = tf.expand_dims(img1, axis=0)"
      ],
      "execution_count": null,
      "outputs": []
    },
    {
      "cell_type": "code",
      "metadata": {
        "id": "IbQQgj20ne9-",
        "colab_type": "code",
        "colab": {}
      },
      "source": [
        "mask = model.predict(img1)"
      ],
      "execution_count": null,
      "outputs": []
    },
    {
      "cell_type": "code",
      "metadata": {
        "id": "TqXjRRN6pHIB",
        "colab_type": "code",
        "colab": {}
      },
      "source": [
        "mask_ = np.squeeze(mask)"
      ],
      "execution_count": null,
      "outputs": []
    },
    {
      "cell_type": "code",
      "metadata": {
        "id": "FAe7PW1WofST",
        "colab_type": "code",
        "colab": {
          "base_uri": "https://localhost:8080/",
          "height": 286
        },
        "outputId": "ce00e948-60c9-4aeb-ecb8-797e1c1d7d87"
      },
      "source": [
        "plt.imshow(np.ndarray.astype(mask_*255, np.uint8), cmap='gray')"
      ],
      "execution_count": null,
      "outputs": [
        {
          "output_type": "execute_result",
          "data": {
            "text/plain": [
              "<matplotlib.image.AxesImage at 0x7f081b8dda90>"
            ]
          },
          "metadata": {
            "tags": []
          },
          "execution_count": 36
        },
        {
          "output_type": "display_data",
          "data": {
            "image/png": "[encoded data removed]",
            "text/plain": [
              "<Figure size 432x288 with 1 Axes>"
            ]
          },
          "metadata": {
            "tags": [],
            "needs_background": "light"
          }
        }
      ]
    },
    {
      "cell_type": "code",
      "metadata": {
        "id": "hCVkhLIhpUne",
        "colab_type": "code",
        "colab": {
          "base_uri": "https://localhost:8080/",
          "height": 286
        },
        "outputId": "4600ed07-efc7-4e0e-d56b-27267708e1ed"
      },
      "source": [
        "plt.imshow(cv2.cvtColor(img, cv2.COLOR_BGR2RGB))"
      ],
      "execution_count": null,
      "outputs": [
        {
          "output_type": "execute_result",
          "data": {
            "text/plain": [
              "<matplotlib.image.AxesImage at 0x7f081b871710>"
            ]
          },
          "metadata": {
            "tags": []
          },
          "execution_count": 37
        },
        {
          "output_type": "display_data",
          "data": {
            "image/png": "[encoded data removed]",
            "text/plain": [
              "<Figure size 432x288 with 1 Axes>"
            ]
          },
          "metadata": {
            "tags": [],
            "needs_background": "light"
          }
        }
      ]
    }
  ]
}