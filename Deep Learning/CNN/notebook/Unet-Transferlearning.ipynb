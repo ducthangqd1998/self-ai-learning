{
  "nbformat": 4,
  "nbformat_minor": 0,
  "metadata": {
    "colab": {
      "name": "Unet-Transferlearning.ipynb",
      "provenance": [],
      "toc_visible": true,
      "machine_shape": "hm"
    },
    "kernelspec": {
      "name": "python3",
      "display_name": "Python 3"
    },
    "accelerator": "GPU"
  },
  "cells": [
    {
      "cell_type": "markdown",
      "metadata": {
        "id": "jPjh0qGvaS55",
        "colab_type": "text"
      },
      "source": [
        "### Transfer Learning\n",
        "\n",
        "Chúng ta sẽ tiến hành xâu dựng mô hình Unet với pretrained model là Resnet 50.\n",
        "\n",
        "Mô hình cần xây dựng là mô hình segmentation tóc.\n",
        "\n",
        "Xây dựng chương trình với Tensorflow 2.3"
      ]
    },
    {
      "cell_type": "code",
      "metadata": {
        "id": "IaTYPDbTa8k9",
        "colab_type": "code",
        "colab": {
          "base_uri": "https://localhost:8080/",
          "height": 357
        },
        "outputId": "6cdbfac5-9a66-4d79-e874-2905a5e30ac0"
      },
      "source": [
        "! nvidia-smi"
      ],
      "execution_count": null,
      "outputs": [
        {
          "output_type": "stream",
          "text": [
            "Thu Sep 17 23:46:19 2020       \n",
            "+-----------------------------------------------------------------------------+\n",
            "| NVIDIA-SMI 450.66       Driver Version: 418.67       CUDA Version: 10.1     |\n",
            "|-------------------------------+----------------------+----------------------+\n",
            "| GPU  Name        Persistence-M| Bus-Id        Disp.A | Volatile Uncorr. ECC |\n",
            "| Fan  Temp  Perf  Pwr:Usage/Cap|         Memory-Usage | GPU-Util  Compute M. |\n",
            "|                               |                      |               MIG M. |\n",
            "|===============================+======================+======================|\n",
            "|   0  Tesla V100-SXM2...  Off  | 00000000:00:04.0 Off |                    0 |\n",
            "| N/A   33C    P0    26W / 300W |      0MiB / 16130MiB |      0%      Default |\n",
            "|                               |                      |                 ERR! |\n",
            "+-------------------------------+----------------------+----------------------+\n",
            "                                                                               \n",
            "+-----------------------------------------------------------------------------+\n",
            "| Processes:                                                                  |\n",
            "|  GPU   GI   CI        PID   Type   Process name                  GPU Memory |\n",
            "|        ID   ID                                                   Usage      |\n",
            "|=============================================================================|\n",
            "|  No running processes found                                                 |\n",
            "+-----------------------------------------------------------------------------+\n"
          ],
          "name": "stdout"
        }
      ]
    },
    {
      "cell_type": "markdown",
      "metadata": {
        "id": "NAeCnpVycBFY",
        "colab_type": "text"
      },
      "source": [
        "### Tiến hành tải và giải dữ liệu\n",
        "\n",
        "Tiến hành tải và giải dữ liệu\n",
        "Link dữ liệu tại đây\n",
        "\n",
        "Có hai loại dữ liệu có kích thước nhỏ và lớn\n",
        "\n",
        "Code tải dữ liệu:\n",
        "\n",
        "Nhỏ: ```wget --load-cookies /tmp/cookies.txt \"https://docs.google.com/uc?export=download&confirm=$(wget --quiet --save-cookies /tmp/cookies.txt --keep-session-cookies --no-check-certificate 'https://docs.google.com/uc?export=download&id=1-9eY2slA6ZmdBLLEExdxhLcavm0bPZua' -O- | sed -rn 's/.*confirm=([0-9A-Za-z_]+).*/\\1\\n/p')&id=1-9eY2slA6ZmdBLLEExdxhLcavm0bPZua\" -O dataset.zip && rm -rf /tmp/cookies.txt```\n",
        "\n",
        "Lớn: ```wget --load-cookies /tmp/cookies.txt \"https://docs.google.com/uc?export=download&confirm=$(wget --quiet --save-cookies /tmp/cookies.txt --keep-session-cookies --no-check-certificate 'https://docs.google.com/uc?export=download&id=1IxCAa6hMvZJppXGM3vPmEH5mEh3bG4Ob' -O- | sed -rn 's/.*confirm=([0-9A-Za-z_]+).*/\\1\\n/p')&id=1IxCAa6hMvZJppXGM3vPmEH5mEh3bG4Ob\" -O dataset-large.zip && rm -rf /tmp/cookies.txt```"
      ]
    },
    {
      "cell_type": "code",
      "metadata": {
        "id": "26D_8V8LcmVF",
        "colab_type": "code",
        "colab": {}
      },
      "source": [
        "! wget --load-cookies /tmp/cookies.txt \"https://docs.google.com/uc?export=download&confirm=$(wget --quiet --save-cookies /tmp/cookies.txt --keep-session-cookies --no-check-certificate 'https://docs.google.com/uc?export=download&id=1IxCAa6hMvZJppXGM3vPmEH5mEh3bG4Ob' -O- | sed -rn 's/.*confirm=([0-9A-Za-z_]+).*/\\1\\n/p')&id=1IxCAa6hMvZJppXGM3vPmEH5mEh3bG4Ob\" -O dataset-large.zip && rm -rf /tmp/cookies.txt"
      ],
      "execution_count": null,
      "outputs": []
    },
    {
      "cell_type": "code",
      "metadata": {
        "id": "EzG1aBOzedV2",
        "colab_type": "code",
        "colab": {}
      },
      "source": [
        "! mkdir dataset\n",
        "! mkdir trained_model"
      ],
      "execution_count": 2,
      "outputs": []
    },
    {
      "cell_type": "code",
      "metadata": {
        "id": "ayKrkItGdoUB",
        "colab_type": "code",
        "colab": {}
      },
      "source": [
        "! unzip /content/dataset-large.zip -d /content/dataset/"
      ],
      "execution_count": null,
      "outputs": []
    },
    {
      "cell_type": "markdown",
      "metadata": {
        "id": "gn-Q6Yc8f9vr",
        "colab_type": "text"
      },
      "source": [
        "### Xây dựng chương trình"
      ]
    },
    {
      "cell_type": "code",
      "metadata": {
        "id": "cb9_QMJygEew",
        "colab_type": "code",
        "colab": {}
      },
      "source": [
        "import os \n",
        "import cv2\n",
        "import json\n",
        "import random\n",
        "import numpy as np\n",
        "from glob import glob\n",
        "from os.path import join\n",
        "import tensorflow as tf\n",
        "import matplotlib.pyplot as plt\n",
        "from tensorflow.keras.layers import Conv2D, Activation, BatchNormalization\n",
        "from tensorflow.keras.layers import UpSampling2D, Input, Concatenate, Flatten\n",
        "from tensorflow.keras.models import Model\n",
        "from tensorflow.keras.utils import Sequence\n",
        "from tensorflow.keras.applications import ResNet50\n",
        "from tensorflow.keras.metrics import Recall, Precision"
      ],
      "execution_count": 4,
      "outputs": []
    },
    {
      "cell_type": "markdown",
      "metadata": {
        "id": "uv1qED1VgNhx",
        "colab_type": "text"
      },
      "source": [
        "### Load và Write json"
      ]
    },
    {
      "cell_type": "code",
      "metadata": {
        "id": "t9B_ZvDpgWFe",
        "colab_type": "code",
        "colab": {}
      },
      "source": [
        "\n",
        "def load_json(json_file):\n",
        "    with open(json_file, 'r') as file:\n",
        "        return json.loads(file.read())\n",
        "\n",
        "\n",
        "def write_json(json_file, arr):\n",
        "    with open(json_file, 'w') as file:\n",
        "        json.dump(arr, file, indent=4)"
      ],
      "execution_count": 5,
      "outputs": []
    },
    {
      "cell_type": "markdown",
      "metadata": {
        "id": "PNGl42wwgZGv",
        "colab_type": "text"
      },
      "source": [
        "### Data Augmentation"
      ]
    },
    {
      "cell_type": "code",
      "metadata": {
        "id": "EoIn7QGlgi_0",
        "colab_type": "code",
        "colab": {}
      },
      "source": [
        "class ToTensor(object):\n",
        "\n",
        "    def __call__(self, img, mask):\n",
        "        \"\"\"\n",
        "        Convert Image to Tensorflow Tensor\n",
        "        :param img:\n",
        "        :param mask:\n",
        "        :return: img, mask\n",
        "        \"\"\"\n",
        "        img = tf.convert_to_tensor(img)\n",
        "        mask = tf.convert_to_tensor(mask)\n",
        "        return img, mask\n",
        "\n",
        "\n",
        "class Normalize(object):\n",
        "    def __init__(self, std, mean):\n",
        "        super(Normalize, self).__init__()\n",
        "        self.std = std\n",
        "        self.mean = mean\n",
        "\n",
        "    def __call__(self, img, mask):\n",
        "        \"\"\"\n",
        "        Normalize image with mean and std of imagenet dataset\n",
        "        :param img:\n",
        "        :param mask\n",
        "        :return: img, mask\n",
        "        \"\"\"\n",
        "        img = img / 255.0\n",
        "        mask = mask / 255.0\n",
        "        img -= self.mean\n",
        "        img /= self.std\n",
        "        return img, mask\n",
        "\n",
        "\n",
        "class RandomFlip(object):\n",
        "\n",
        "    def __call__(self, img, mask):\n",
        "        \"\"\"\n",
        "        Flip image and mask, the image will be flipped hôintal, vertical or both\n",
        "        :param img:\n",
        "        :param mask:\n",
        "        :return: img, mask\n",
        "        \"\"\"\n",
        "        if random.choice([0, 1]):\n",
        "            print(1)\n",
        "            axis = random.choice([-1, 0, 1])\n",
        "            img = cv2.flip(img, axis)\n",
        "            mask = cv2.flip(img, axis)\n",
        "\n",
        "        return img, mask\n",
        "\n",
        "\n",
        "class Resize(object):\n",
        "    def __init__(self, dim):\n",
        "        super(Resize, self).__init__()\n",
        "        self.dim = dim\n",
        "\n",
        "    def __call__(self, img, mask):\n",
        "        \"\"\"\n",
        "        Resize image with shape(width, height)\n",
        "        :param img:\n",
        "        :param mask:\n",
        "        :return: img, mask\n",
        "        \"\"\"\n",
        "        img = cv2.resize(img, self.dim)\n",
        "        mask = cv2.resize(mask, self.dim)\n",
        "        return img, mask\n",
        "\n",
        "\n",
        "class RandomRotate(object):\n",
        "    def __call__(self, img, mask):\n",
        "        \"\"\"\n",
        "        Rotate image with random degree\n",
        "        :param img:\n",
        "        :param mask:\n",
        "        :return:\n",
        "        \"\"\"\n",
        "        degree = random.uniform(0, 360)\n",
        "        h, w = img.shape[:2]\n",
        "        c = cv2.getRotationMatrix2D((w/2, h/2), degree, scale=1.0)\n",
        "\n",
        "        img = cv2.warpAffine(img, c, img.shape[:2])\n",
        "        mask = cv2.warpAffine(mask, c, img.shape[:2])\n",
        "\n",
        "        return img, mask\n",
        "\n",
        "\n",
        "class RandomCrop(object):\n",
        "    def __init__(self, dim):\n",
        "        super(RandomCrop, self).__init__()\n",
        "        self.dim = dim\n",
        "\n",
        "    def __call__(self, img, mask):\n",
        "        \"\"\"\n",
        "        Crop image with fixed shape and random\n",
        "        :param img:\n",
        "        :param mask:\n",
        "        :return: img, mask\n",
        "        \"\"\"\n",
        "        h, w = img.shape[:2]\n",
        "        y = random.randint(0, h - self.dim[1])\n",
        "        x = random.randint(0, w - self.dim[0])\n",
        "\n",
        "        img = img[y:y+self.dim[1], x:x + self.dim[0]]\n",
        "        mask = mask[y:y + self.dim[1], x:x + self.dim[0]]\n",
        "\n",
        "        return img, mask\n",
        "\n",
        "\n",
        "class RandomGaussianBlur(object):\n",
        "\n",
        "    def __call__(self, img, mask):\n",
        "        '''\n",
        "        Blur image using Gaussian with random radius\n",
        "        :param img:\n",
        "        :param mask:\n",
        "        :return: img, mask\n",
        "        '''\n",
        "        if random.choice([0, 1]):\n",
        "            radius = random.choice([1, 3, 5])\n",
        "            img = cv2.GaussianBlur(img, (radius, radius), 0)\n",
        "\n",
        "        return img, mask\n",
        "\n",
        "\n",
        "class ChangeBrightness(object):\n",
        "\n",
        "    def __call__(self, img, mask):\n",
        "        \"\"\"\n",
        "        Change Brightness of image, image can be brighter, darker or not\n",
        "        :param img:\n",
        "        :param mask:\n",
        "        :return: img, mask\n",
        "        \"\"\"\n",
        "        if random.choice([0, 1]):\n",
        "            lookUpTable = np.empty((1, 256), np.uint8)\n",
        "            gamma = random.uniform(0.1, 3)\n",
        "            for i in range(256):\n",
        "                lookUpTable[0, i] = np.clip(pow(i / 255.0, gamma) * 255.0, 0, 255)\n",
        "            img = cv2.LUT(img, lookUpTable)\n",
        "\n",
        "        return img, mask"
      ],
      "execution_count": 6,
      "outputs": []
    },
    {
      "cell_type": "markdown",
      "metadata": {
        "id": "RsxsXySzg1Ou",
        "colab_type": "text"
      },
      "source": [
        "### Data Generator \n",
        "\n",
        "Xây dựng chương trình loader cho dữ liệu"
      ]
    },
    {
      "cell_type": "code",
      "metadata": {
        "id": "NcRLVCOPhSMW",
        "colab_type": "code",
        "colab": {}
      },
      "source": [
        "class Dataset(Sequence):\n",
        "    def __init__(self, imgs, phase='Training', batch_size=8):\n",
        "        self.phase = phase\n",
        "        self.batch_size = batch_size\n",
        "        self.imgs = imgs\n",
        "\n",
        "\n",
        "    def load_data(self, imgs_batch):\n",
        "        imgs = list()\n",
        "        masks = list()\n",
        "\n",
        "        for img_name in imgs_batch:\n",
        "            img_path = join(img_paths, self.phase, img_name)\n",
        "            mask_path = join(mask_paths, self.phase, img_name.split('.')[0] + '.png')\n",
        "\n",
        "            img = cv2.imread(img_path)\n",
        "            mask = cv2.imread(mask_path)\n",
        "\n",
        "            if self.phase == 'Training':\n",
        "                img, mask = self.train_transform(img, mask)\n",
        "            else:\n",
        "                img, mask = self.val_transfrom(img, mask)\n",
        "\n",
        "            imgs.append(img)\n",
        "            masks.append(mask)\n",
        "\n",
        "        imgs = tf.convert_to_tensor(imgs)\n",
        "        masks = tf.convert_to_tensor(masks)\n",
        "\n",
        "        return imgs, masks\n",
        "\n",
        "\n",
        "    def train_transform(self, img, mask):\n",
        "        img, mask = Resize(dim=(256, 256))(img, mask)\n",
        "        img, mask = RandomRotate()(img, mask)\n",
        "        img, mask = ChangeBrightness()(img, mask)\n",
        "        img, mask = RandomGaussianBlur()(img, mask)\n",
        "        img, mask = RandomCrop(dim=(224, 224))(img, mask)\n",
        "        img, mask = Normalize(std=[0.229, 0.224, 0.225],\n",
        "                              mean=[0.485, 0.456, 0.406])(img, mask)\n",
        "        img, mask = ToTensor()(img, mask[:, :, 0])\n",
        "\n",
        "        return img, mask\n",
        "\n",
        "\n",
        "    def val_transfrom(self, img, mask):\n",
        "        img, mask = Resize(dim=(256, 256))(img, mask)\n",
        "        img, mask = RandomCrop(dim=(224, 224))(img, mask)\n",
        "        img, mask = Normalize(std=[0.229, 0.224, 0.225],\n",
        "                              mean=[0.485, 0.456, 0.406])(img, mask)\n",
        "        img, mask = ToTensor()(img, mask[:, :, 0])\n",
        "\n",
        "        return img, mask\n",
        "\n",
        "\n",
        "    def __getitem__(self, index):\n",
        "\n",
        "        stop = (index + 1)*self.batch_size\n",
        "\n",
        "        if stop > len(self.imgs):\n",
        "            stop = len(self.imgs)\n",
        "\n",
        "        imgs_batch = self.imgs[index*self.batch_size:stop]\n",
        "        imgs, masks = self.load_data(imgs_batch)\n",
        "\n",
        "        return imgs, masks\n",
        "\n",
        "\n",
        "    def __len__(self):\n",
        "        return int(np.ceil(len(self.imgs) / self.batch_size))"
      ],
      "execution_count": 7,
      "outputs": []
    },
    {
      "cell_type": "markdown",
      "metadata": {
        "id": "tfyrcUItho16",
        "colab_type": "text"
      },
      "source": [
        "### Mô hình \n",
        "\n",
        "Xây dựng kiến trúc cho mô hình hair segmentation.\n",
        "\n",
        "Kiến trúc: Unet + Resnet 50"
      ]
    },
    {
      "cell_type": "code",
      "metadata": {
        "id": "z9X9xdZJh0kI",
        "colab_type": "code",
        "colab": {}
      },
      "source": [
        "def Unet():\n",
        "    inputs = Input(shape=(224, 224, 3), name=\"input_image\")\n",
        "    backbone = ResNet50(input_tensor=inputs, weights='imagenet', include_top=False)\n",
        "    input_layer = backbone.get_layer(name='input_image')\n",
        "    layer0 = backbone.get_layer(name='conv1_relu')\n",
        "    layer1 = backbone.get_layer(name='conv2_block1_out')\n",
        "    layer2 = backbone.get_layer(name='conv3_block2_out')\n",
        "    layer3 = backbone.get_layer(name='conv4_block3_out')\n",
        "    out_layer = backbone.get_layer(name='conv5_block2_out')\n",
        "\n",
        "\n",
        "    encoder_out = out_layer.output\n",
        "    x = up_sample(layer3, encoder_out, 1024)\n",
        "    x = up_sample(layer2, x, 512)\n",
        "    x = up_sample(layer1, x, 256)\n",
        "    x = up_sample(layer0, x, 64)\n",
        "    x = up_sample(input_layer, x, 32)\n",
        "\n",
        "    x = Conv2D(1, (1, 1), padding=\"same\")(x)\n",
        "    out = Activation(\"sigmoid\")(x)\n",
        "    model = Model(inputs, out)\n",
        "    return model\n",
        "\n",
        "def conv_block(filters, x):\n",
        "    x = Conv2D(filters=filters,\n",
        "               kernel_size=(3, 3),\n",
        "               padding='same',\n",
        "               activation='relu')(x)\n",
        "\n",
        "    x = BatchNormalization()(x)\n",
        "\n",
        "    x = Conv2D(filters=filters,\n",
        "               kernel_size=(3, 3),\n",
        "               padding='same',\n",
        "               activation='relu')(x)\n",
        "    out = BatchNormalization()(x)\n",
        "    return out\n",
        "\n",
        "def up_sample( layer, input, filters):\n",
        "    x1 = layer.output\n",
        "    x = UpSampling2D((2, 2))(input)\n",
        "    x = Concatenate()([x, x1])\n",
        "\n",
        "    out = conv_block(filters, x)\n",
        "\n",
        "    return out"
      ],
      "execution_count": 8,
      "outputs": []
    },
    {
      "cell_type": "markdown",
      "metadata": {
        "id": "cBWG0Qb6k-e8",
        "colab_type": "text"
      },
      "source": [
        "### Metrics"
      ]
    },
    {
      "cell_type": "code",
      "metadata": {
        "id": "WH1PuF0ClA1a",
        "colab_type": "code",
        "colab": {}
      },
      "source": [
        "smooth = 1e-15\n",
        "def iou(y_true, y_pred):\n",
        "    y_true = tf.keras.layers.Flatten()(y_true)\n",
        "    y_pred = tf.keras.layers.Flatten()(y_pred)\n",
        "    intersection = tf.reduce_sum(y_true * y_pred)\n",
        "    union = tf.reduce_sum(y_true) + tf.reduce_sum(y_pred) - intersection\n",
        "    return (intersection + smooth) / (union + smooth)\n",
        "\n",
        "def iou_loss(y_true, y_pred):\n",
        "    return 1.0 - iou(y_true, y_pred)"
      ],
      "execution_count": 9,
      "outputs": []
    },
    {
      "cell_type": "markdown",
      "metadata": {
        "id": "WCB7KKXMh8VM",
        "colab_type": "text"
      },
      "source": [
        "### Huấn luyện mô hình"
      ]
    },
    {
      "cell_type": "code",
      "metadata": {
        "id": "ZtBVlZqYiBxX",
        "colab_type": "code",
        "colab": {}
      },
      "source": [
        "img_paths = 'dataset/Original'\n",
        "mask_paths = 'dataset/MASKS'\n",
        "model_path = 'trained_model/hair_segmentation.h5'\n",
        "json_path = 'dataset/data.json'"
      ],
      "execution_count": 10,
      "outputs": []
    },
    {
      "cell_type": "code",
      "metadata": {
        "id": "RZC7rzTliegs",
        "colab_type": "code",
        "colab": {}
      },
      "source": [
        "# Tham số huấn luyện mô hình \n",
        "batch_size = 32\n",
        "lr = 1e-3\n",
        "epochs = 12\n",
        "momentum = 0.9\n",
        "num_classes = 1"
      ],
      "execution_count": 11,
      "outputs": []
    },
    {
      "cell_type": "code",
      "metadata": {
        "id": "f8j32KyFire4",
        "colab_type": "code",
        "colab": {}
      },
      "source": [
        "# Load dữ liệu \n",
        "data = load_json(json_path)\n",
        "test_loader = Dataset(data['test'], phase='Testing', batch_size=batch_size)\n",
        "train_loader = Dataset(data['train'], phase='Training', batch_size=batch_size)"
      ],
      "execution_count": 12,
      "outputs": []
    },
    {
      "cell_type": "code",
      "metadata": {
        "id": "_0cNJ4qSi34J",
        "colab_type": "code",
        "colab": {
          "base_uri": "https://localhost:8080/",
          "height": 51
        },
        "outputId": "d648c70d-0929-42f8-be0b-10bfd9821af0"
      },
      "source": [
        "# load model\n",
        "model = Unet()\n",
        "\n",
        "losses = tf.keras.losses.BinaryCrossentropy()\n",
        "optimizer = tf.keras.optimizers.SGD(learning_rate=lr, momentum=momentum)\n",
        "metrics = [iou, Recall(), Precision()]"
      ],
      "execution_count": 13,
      "outputs": [
        {
          "output_type": "stream",
          "text": [
            "Downloading data from https://storage.googleapis.com/tensorflow/keras-applications/resnet/resnet50_weights_tf_dim_ordering_tf_kernels_notop.h5\n",
            "94773248/94765736 [==============================] - 1s 0us/step\n"
          ],
          "name": "stdout"
        }
      ]
    },
    {
      "cell_type": "code",
      "metadata": {
        "id": "mWvjIVnyBt32",
        "colab_type": "code",
        "colab": {}
      },
      "source": [
        "# Lập lịch cho learning rate\n",
        "def scheduler(epoch, lr):\n",
        "  if epoch < 4:\n",
        "    return lr\n",
        "  else:\n",
        "    return lr * tf.math.exp(-0.1)"
      ],
      "execution_count": 14,
      "outputs": []
    },
    {
      "cell_type": "code",
      "metadata": {
        "id": "IdnBNh-hjUn9",
        "colab_type": "code",
        "colab": {}
      },
      "source": [
        "# huấn luyện \n",
        "model.compile(optimizer=optimizer, loss=iou_loss, metrics=metrics)\n",
        "callback = tf.keras.callbacks.LearningRateScheduler(scheduler)\n",
        "\n",
        "model.fit_generator(train_loader,\n",
        "                    steps_per_epoch=len(train_loader),\n",
        "                    epochs=epochs,\n",
        "                    callbacks=[callback],\n",
        "                    validation_data=test_loader,\n",
        "                    validation_steps=len(test_loader))"
      ],
      "execution_count": null,
      "outputs": []
    },
    {
      "cell_type": "code",
      "metadata": {
        "id": "26u1fDv9kdab",
        "colab_type": "code",
        "colab": {}
      },
      "source": [
        "model.save(model_path)"
      ],
      "execution_count": null,
      "outputs": []
    },
    {
      "cell_type": "markdown",
      "metadata": {
        "id": "88qTeb-LjDU7",
        "colab_type": "text"
      },
      "source": [
        "### Download model "
      ]
    },
    {
      "cell_type": "code",
      "metadata": {
        "id": "YBD_9lzpjGJP",
        "colab_type": "code",
        "colab": {}
      },
      "source": [
        "from google.colab import files\n",
        "files.download(model_path) "
      ],
      "execution_count": null,
      "outputs": []
    },
    {
      "cell_type": "markdown",
      "metadata": {
        "id": "2r2ObT_Dmnvt",
        "colab_type": "text"
      },
      "source": [
        "### Test mô hình "
      ]
    },
    {
      "cell_type": "code",
      "metadata": {
        "id": "W4Xb3Gxhmi9D",
        "colab_type": "code",
        "colab": {}
      },
      "source": [
        "def preprocessing(img):\n",
        "  img, mask = Resize(dim=(224, 224))(img, img)\n",
        "  img, mask = Normalize(std=[0.229, 0.224, 0.225],\n",
        "                        mean=[0.485, 0.456, 0.406])(img, mask)\n",
        "  img, _ = ToTensor()(img, mask[:, :, 0])\n",
        "\n",
        "  return img\n"
      ],
      "execution_count": null,
      "outputs": []
    },
    {
      "cell_type": "code",
      "metadata": {
        "id": "kUmQ5jagnSgB",
        "colab_type": "code",
        "colab": {}
      },
      "source": [
        "img = cv2.imread('/content/dataset/Original/Testing/Frame00583-org.jpg')\n",
        "img1 = preprocessing(img)\n",
        "img1 = tf.expand_dims(img1, axis=0)"
      ],
      "execution_count": null,
      "outputs": []
    },
    {
      "cell_type": "code",
      "metadata": {
        "id": "IbQQgj20ne9-",
        "colab_type": "code",
        "colab": {}
      },
      "source": [
        "mask = model.predict(img1)"
      ],
      "execution_count": null,
      "outputs": []
    },
    {
      "cell_type": "code",
      "metadata": {
        "id": "TqXjRRN6pHIB",
        "colab_type": "code",
        "colab": {}
      },
      "source": [
        "mask_ = np.squeeze(mask)"
      ],
      "execution_count": null,
      "outputs": []
    },
    {
      "cell_type": "code",
      "metadata": {
        "id": "FAe7PW1WofST",
        "colab_type": "code",
        "colab": {}
      },
      "source": [
        "plt.imshow(np.ndarray.astype(mask_*255, np.uint8), cmap='gray')"
      ],
      "execution_count": null,
      "outputs": []
    },
    {
      "cell_type": "code",
      "metadata": {
        "id": "hCVkhLIhpUne",
        "colab_type": "code",
        "colab": {}
      },
      "source": [
        "plt.imshow(cv2.cvtColor(img, cv2.COLOR_BGR2RGB))"
      ],
      "execution_count": null,
      "outputs": []
    }
  ]
}