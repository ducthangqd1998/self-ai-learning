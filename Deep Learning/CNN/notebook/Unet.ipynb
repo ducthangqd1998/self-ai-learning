{
  "nbformat": 4,
  "nbformat_minor": 0,
  "metadata": {
    "colab": {
      "name": "Unet.ipynb",
      "provenance": [],
      "toc_visible": true,
      "machine_shape": "hm"
    },
    "kernelspec": {
      "name": "python3",
      "display_name": "Python 3"
    },
    "accelerator": "GPU"
  },
  "cells": [
    {
      "cell_type": "markdown",
      "metadata": {
        "id": "jPjh0qGvaS55",
        "colab_type": "text"
      },
      "source": [
        "### CNN\n",
        "\n",
        "Chúng ta sẽ tiến hành xâu dựng mô hình Unet\n",
        "\n",
        "Mô hình cần xây dựng là mô hình segmentation tóc.\n",
        "\n",
        "Xây dựng chương trình với Tensorflow 2.3"
      ]
    },
    {
      "cell_type": "code",
      "metadata": {
        "id": "IaTYPDbTa8k9",
        "colab_type": "code",
        "colab": {
          "base_uri": "https://localhost:8080/",
          "height": 357
        },
        "outputId": "67775a39-4f67-4928-a18a-4d7e066976da"
      },
      "source": [
        "! nvidia-smi"
      ],
      "execution_count": null,
      "outputs": [
        {
          "output_type": "stream",
          "text": [
            "Fri Sep 18 00:20:09 2020       \n",
            "+-----------------------------------------------------------------------------+\n",
            "| NVIDIA-SMI 450.66       Driver Version: 418.67       CUDA Version: 10.1     |\n",
            "|-------------------------------+----------------------+----------------------+\n",
            "| GPU  Name        Persistence-M| Bus-Id        Disp.A | Volatile Uncorr. ECC |\n",
            "| Fan  Temp  Perf  Pwr:Usage/Cap|         Memory-Usage | GPU-Util  Compute M. |\n",
            "|                               |                      |               MIG M. |\n",
            "|===============================+======================+======================|\n",
            "|   0  Tesla V100-SXM2...  Off  | 00000000:00:04.0 Off |                    0 |\n",
            "| N/A   32C    P0    23W / 300W |      0MiB / 16130MiB |      0%      Default |\n",
            "|                               |                      |                 ERR! |\n",
            "+-------------------------------+----------------------+----------------------+\n",
            "                                                                               \n",
            "+-----------------------------------------------------------------------------+\n",
            "| Processes:                                                                  |\n",
            "|  GPU   GI   CI        PID   Type   Process name                  GPU Memory |\n",
            "|        ID   ID                                                   Usage      |\n",
            "|=============================================================================|\n",
            "|  No running processes found                                                 |\n",
            "+-----------------------------------------------------------------------------+\n"
          ],
          "name": "stdout"
        }
      ]
    },
    {
      "cell_type": "markdown",
      "metadata": {
        "id": "NAeCnpVycBFY",
        "colab_type": "text"
      },
      "source": [
        "### Tiến hành tải và giải dữ liệu\n",
        "\n",
        "Tiến hành tải và giải dữ liệu\n",
        "Link dữ liệu tại đây\n",
        "\n",
        "Có hai loại dữ liệu có kích thước nhỏ và lớn\n",
        "\n",
        "Code tải dữ liệu:\n",
        "\n",
        "Nhỏ: ```wget --load-cookies /tmp/cookies.txt \"https://docs.google.com/uc?export=download&confirm=$(wget --quiet --save-cookies /tmp/cookies.txt --keep-session-cookies --no-check-certificate 'https://docs.google.com/uc?export=download&id=1-9eY2slA6ZmdBLLEExdxhLcavm0bPZua' -O- | sed -rn 's/.*confirm=([0-9A-Za-z_]+).*/\\1\\n/p')&id=1-9eY2slA6ZmdBLLEExdxhLcavm0bPZua\" -O dataset.zip && rm -rf /tmp/cookies.txt```\n",
        "\n",
        "Lớn: ```wget --load-cookies /tmp/cookies.txt \"https://docs.google.com/uc?export=download&confirm=$(wget --quiet --save-cookies /tmp/cookies.txt --keep-session-cookies --no-check-certificate 'https://docs.google.com/uc?export=download&id=1hGVJJ0MERaP1ouEc_vcfFg1nS9aHeYw3' -O- | sed -rn 's/.*confirm=([0-9A-Za-z_]+).*/\\1\\n/p')&id=1hGVJJ0MERaP1ouEc_vcfFg1nS9aHeYw3\" -O dataset-large.zip && rm -rf /tmp/cookies.txt```"
      ]
    },
    {
      "cell_type": "code",
      "metadata": {
        "id": "26D_8V8LcmVF",
        "colab_type": "code",
        "colab": {}
      },
      "source": [
        "! wget --load-cookies /tmp/cookies.txt \"https://docs.google.com/uc?export=download&confirm=$(wget --quiet --save-cookies /tmp/cookies.txt --keep-session-cookies --no-check-certificate 'https://docs.google.com/uc?export=download&id=1hGVJJ0MERaP1ouEc_vcfFg1nS9aHeYw3' -O- | sed -rn 's/.*confirm=([0-9A-Za-z_]+).*/\\1\\n/p')&id=1hGVJJ0MERaP1ouEc_vcfFg1nS9aHeYw3\" -O dataset-large.zip && rm -rf /tmp/cookies.txt"
      ],
      "execution_count": null,
      "outputs": []
    },
    {
      "cell_type": "code",
      "metadata": {
        "id": "EzG1aBOzedV2",
        "colab_type": "code",
        "colab": {}
      },
      "source": [
        "! mkdir dataset\n",
        "! mkdir trained_model"
      ],
      "execution_count": null,
      "outputs": []
    },
    {
      "cell_type": "code",
      "metadata": {
        "id": "ayKrkItGdoUB",
        "colab_type": "code",
        "colab": {}
      },
      "source": [
        "! unzip /content/dataset-large.zip -d /content/dataset/"
      ],
      "execution_count": null,
      "outputs": []
    },
    {
      "cell_type": "markdown",
      "metadata": {
        "id": "gn-Q6Yc8f9vr",
        "colab_type": "text"
      },
      "source": [
        "### Xây dựng chương trình"
      ]
    },
    {
      "cell_type": "code",
      "metadata": {
        "id": "cb9_QMJygEew",
        "colab_type": "code",
        "colab": {}
      },
      "source": [
        "import os \n",
        "import cv2\n",
        "import json\n",
        "import random\n",
        "import numpy as np\n",
        "from glob import glob\n",
        "from os.path import join\n",
        "import tensorflow as tf\n",
        "import matplotlib.pyplot as plt\n",
        "from tensorflow.keras.layers import Conv2D, Activation, BatchNormalization, MaxPool2D\n",
        "from tensorflow.keras.layers import UpSampling2D, Input, Concatenate, Flatten\n",
        "from tensorflow.keras.models import Model\n",
        "from tensorflow.keras.utils import Sequence\n",
        "from tensorflow.keras.applications import ResNet50\n",
        "from tensorflow.keras.metrics import Recall, Precision"
      ],
      "execution_count": null,
      "outputs": []
    },
    {
      "cell_type": "markdown",
      "metadata": {
        "id": "uv1qED1VgNhx",
        "colab_type": "text"
      },
      "source": [
        "### Load và Write json"
      ]
    },
    {
      "cell_type": "code",
      "metadata": {
        "id": "t9B_ZvDpgWFe",
        "colab_type": "code",
        "colab": {}
      },
      "source": [
        "\n",
        "def load_json(json_file):\n",
        "    with open(json_file, 'r') as file:\n",
        "        return json.loads(file.read())\n",
        "\n",
        "\n",
        "def write_json(json_file, arr):\n",
        "    with open(json_file, 'w') as file:\n",
        "        json.dump(arr, file, indent=4)"
      ],
      "execution_count": null,
      "outputs": []
    },
    {
      "cell_type": "markdown",
      "metadata": {
        "id": "PNGl42wwgZGv",
        "colab_type": "text"
      },
      "source": [
        "### Data Augmentation"
      ]
    },
    {
      "cell_type": "code",
      "metadata": {
        "id": "EoIn7QGlgi_0",
        "colab_type": "code",
        "colab": {}
      },
      "source": [
        "class ToTensor(object):\n",
        "\n",
        "    def __call__(self, img, mask):\n",
        "        \"\"\"\n",
        "        Convert Image to Tensorflow Tensor\n",
        "        :param img:\n",
        "        :param mask:\n",
        "        :return: img, mask\n",
        "        \"\"\"\n",
        "        img = tf.convert_to_tensor(img)\n",
        "        mask = tf.convert_to_tensor(mask)\n",
        "        return img, mask\n",
        "\n",
        "\n",
        "class Normalize(object):\n",
        "    def __init__(self, std, mean):\n",
        "        super(Normalize, self).__init__()\n",
        "        self.std = std\n",
        "        self.mean = mean\n",
        "\n",
        "    def __call__(self, img, mask):\n",
        "        \"\"\"\n",
        "        Normalize image with mean and std of imagenet dataset\n",
        "        :param img:\n",
        "        :param mask\n",
        "        :return: img, mask\n",
        "        \"\"\"\n",
        "        img = img / 255.0\n",
        "        mask = mask / 255.0\n",
        "        img -= self.mean\n",
        "        img /= self.std\n",
        "        return img, mask\n",
        "\n",
        "\n",
        "class RandomFlip(object):\n",
        "\n",
        "    def __call__(self, img, mask):\n",
        "        \"\"\"\n",
        "        Flip image and mask, the image will be flipped hôintal, vertical or both\n",
        "        :param img:\n",
        "        :param mask:\n",
        "        :return: img, mask\n",
        "        \"\"\"\n",
        "        if random.choice([0, 1]):\n",
        "            print(1)\n",
        "            axis = random.choice([-1, 0, 1])\n",
        "            img = cv2.flip(img, axis)\n",
        "            mask = cv2.flip(img, axis)\n",
        "\n",
        "        return img, mask\n",
        "\n",
        "\n",
        "class Resize(object):\n",
        "    def __init__(self, dim):\n",
        "        super(Resize, self).__init__()\n",
        "        self.dim = dim\n",
        "\n",
        "    def __call__(self, img, mask):\n",
        "        \"\"\"\n",
        "        Resize image with shape(width, height)\n",
        "        :param img:\n",
        "        :param mask:\n",
        "        :return: img, mask\n",
        "        \"\"\"\n",
        "        img = cv2.resize(img, self.dim)\n",
        "        mask = cv2.resize(mask, self.dim)\n",
        "        return img, mask\n",
        "\n",
        "\n",
        "class RandomRotate(object):\n",
        "    def __call__(self, img, mask):\n",
        "        \"\"\"\n",
        "        Rotate image with random degree\n",
        "        :param img:\n",
        "        :param mask:\n",
        "        :return:\n",
        "        \"\"\"\n",
        "        degree = random.uniform(0, 360)\n",
        "        h, w = img.shape[:2]\n",
        "        c = cv2.getRotationMatrix2D((w/2, h/2), degree, scale=1.0)\n",
        "\n",
        "        img = cv2.warpAffine(img, c, img.shape[:2])\n",
        "        mask = cv2.warpAffine(mask, c, img.shape[:2])\n",
        "\n",
        "        return img, mask\n",
        "\n",
        "\n",
        "class RandomCrop(object):\n",
        "    def __init__(self, dim):\n",
        "        super(RandomCrop, self).__init__()\n",
        "        self.dim = dim\n",
        "\n",
        "    def __call__(self, img, mask):\n",
        "        \"\"\"\n",
        "        Crop image with fixed shape and random\n",
        "        :param img:\n",
        "        :param mask:\n",
        "        :return: img, mask\n",
        "        \"\"\"\n",
        "        h, w = img.shape[:2]\n",
        "        y = random.randint(0, h - self.dim[1])\n",
        "        x = random.randint(0, w - self.dim[0])\n",
        "\n",
        "        img = img[y:y+self.dim[1], x:x + self.dim[0]]\n",
        "        mask = mask[y:y + self.dim[1], x:x + self.dim[0]]\n",
        "\n",
        "        return img, mask\n",
        "\n",
        "\n",
        "class RandomGaussianBlur(object):\n",
        "\n",
        "    def __call__(self, img, mask):\n",
        "        '''\n",
        "        Blur image using Gaussian with random radius\n",
        "        :param img:\n",
        "        :param mask:\n",
        "        :return: img, mask\n",
        "        '''\n",
        "        if random.choice([0, 1]):\n",
        "            radius = random.choice([1, 3, 5])\n",
        "            img = cv2.GaussianBlur(img, (radius, radius), 0)\n",
        "\n",
        "        return img, mask\n",
        "\n",
        "\n",
        "class ChangeBrightness(object):\n",
        "\n",
        "    def __call__(self, img, mask):\n",
        "        \"\"\"\n",
        "        Change Brightness of image, image can be brighter, darker or not\n",
        "        :param img:\n",
        "        :param mask:\n",
        "        :return: img, mask\n",
        "        \"\"\"\n",
        "        if random.choice([0, 1]):\n",
        "            lookUpTable = np.empty((1, 256), np.uint8)\n",
        "            gamma = random.uniform(0.1, 3)\n",
        "            for i in range(256):\n",
        "                lookUpTable[0, i] = np.clip(pow(i / 255.0, gamma) * 255.0, 0, 255)\n",
        "            img = cv2.LUT(img, lookUpTable)\n",
        "\n",
        "        return img, mask"
      ],
      "execution_count": null,
      "outputs": []
    },
    {
      "cell_type": "markdown",
      "metadata": {
        "id": "RsxsXySzg1Ou",
        "colab_type": "text"
      },
      "source": [
        "### Data Generator \n",
        "\n",
        "Xây dựng chương trình loader cho dữ liệu"
      ]
    },
    {
      "cell_type": "code",
      "metadata": {
        "id": "NcRLVCOPhSMW",
        "colab_type": "code",
        "colab": {}
      },
      "source": [
        "class Dataset(Sequence):\n",
        "    def __init__(self, imgs, phase='Training', batch_size=8):\n",
        "        self.phase = phase\n",
        "        self.batch_size = batch_size\n",
        "        self.imgs = imgs\n",
        "\n",
        "\n",
        "    def load_data(self, imgs_batch):\n",
        "        imgs = list()\n",
        "        masks = list()\n",
        "\n",
        "        for img_name in imgs_batch:\n",
        "            img_path = join(img_paths, self.phase, img_name)\n",
        "            mask_path = join(mask_paths, self.phase, img_name.split('.')[0] + '.png')\n",
        "\n",
        "            img = cv2.imread(img_path)\n",
        "            mask = cv2.imread(mask_path)\n",
        "\n",
        "            if self.phase == 'Training':\n",
        "                img, mask = self.train_transform(img, mask)\n",
        "            else:\n",
        "                img, mask = self.val_transfrom(img, mask)\n",
        "\n",
        "            imgs.append(img)\n",
        "            masks.append(mask)\n",
        "\n",
        "        imgs = tf.convert_to_tensor(imgs)\n",
        "        masks = tf.convert_to_tensor(masks)\n",
        "\n",
        "        return imgs, masks\n",
        "\n",
        "\n",
        "    def train_transform(self, img, mask):\n",
        "        img, mask = Resize(dim=(256, 256))(img, mask)\n",
        "        img, mask = RandomRotate()(img, mask)\n",
        "        img, mask = ChangeBrightness()(img, mask)\n",
        "        img, mask = RandomGaussianBlur()(img, mask)\n",
        "        img, mask = RandomCrop(dim=(224, 224))(img, mask)\n",
        "        img, mask = Normalize(std=[0.229, 0.224, 0.225],\n",
        "                              mean=[0.485, 0.456, 0.406])(img, mask)\n",
        "        img, mask = ToTensor()(img, mask[:, :, 0])\n",
        "\n",
        "        return img, mask\n",
        "\n",
        "\n",
        "    def val_transfrom(self, img, mask):\n",
        "        img, mask = Resize(dim=(256, 256))(img, mask)\n",
        "        img, mask = RandomCrop(dim=(224, 224))(img, mask)\n",
        "        img, mask = Normalize(std=[0.229, 0.224, 0.225],\n",
        "                              mean=[0.485, 0.456, 0.406])(img, mask)\n",
        "        img, mask = ToTensor()(img, mask[:, :, 0])\n",
        "\n",
        "        return img, mask\n",
        "\n",
        "\n",
        "    def __getitem__(self, index):\n",
        "\n",
        "        stop = (index + 1)*self.batch_size\n",
        "\n",
        "        if stop > len(self.imgs):\n",
        "            stop = len(self.imgs)\n",
        "\n",
        "        imgs_batch = self.imgs[index*self.batch_size:stop]\n",
        "        imgs, masks = self.load_data(imgs_batch)\n",
        "\n",
        "        return imgs, masks\n",
        "\n",
        "\n",
        "    def __len__(self):\n",
        "        return int(np.ceil(len(self.imgs) / self.batch_size))"
      ],
      "execution_count": null,
      "outputs": []
    },
    {
      "cell_type": "markdown",
      "metadata": {
        "id": "tfyrcUItho16",
        "colab_type": "text"
      },
      "source": [
        "### Mô hình \n",
        "\n",
        "Xây dựng kiến trúc cho mô hình hair segmentation.\n",
        "\n",
        "Kiến trúc: Unet\n"
      ]
    },
    {
      "cell_type": "code",
      "metadata": {
        "id": "z9X9xdZJh0kI",
        "colab_type": "code",
        "colab": {}
      },
      "source": [
        "def conv_block(filters, x):\n",
        "    x = Conv2D(filters=filters, \n",
        "                kernel_size=(3,3), \n",
        "                padding='same', \n",
        "                activation='relu')(x)\n",
        "\n",
        "    x = BatchNormalization()(x)\n",
        "\n",
        "    x = Conv2D(filters=filters, \n",
        "                kernel_size=(3,3), \n",
        "                padding='same', \n",
        "                activation='relu')(x)\n",
        "    out = BatchNormalization()(x)\n",
        "    return out \n",
        "\n",
        "\n",
        "def down_sample(filters, x):\n",
        "    x = MaxPool2D((2,2))(x)\n",
        "    out = conv_block(filters, x)\n",
        "    return out\n",
        "\n",
        "\n",
        "def up_sample(filters, x, x1):\n",
        "    x = Conv2D(filters=filters,\n",
        "                kernel_size=(2,2),\n",
        "                padding='same',\n",
        "                activation='relu')(x)\n",
        "\n",
        "    x = UpSampling2D((2, 2))(x)\n",
        "    x = Concatenate()([x1, x])\n",
        "    out = conv_block(filters, x)\n",
        "    return out\n",
        "\n",
        "def Unet():\n",
        "\n",
        "    # Encoder\n",
        "    inputs = Input(shape=(224, 224, 3), name=\"input_image\")\n",
        "    down1 = conv_block(64, inputs)\n",
        "    down2 = down_sample(128, down1)\n",
        "    down3 = down_sample(256, down2)\n",
        "    down4 = down_sample(512, down3)\n",
        "    down5 = down_sample(1024, down4)\n",
        "\n",
        "    # Decoder\n",
        "    up1 = up_sample(512, down5, down4)\n",
        "    up2 = up_sample(256, up1, down3)\n",
        "    up3 = up_sample(128, up2, down2)\n",
        "    up4 = up_sample(64, up3, down1)\n",
        "\n",
        "    out = Conv2D(filters=1,\n",
        "                kernel_size=(1,1),\n",
        "                padding='same',\n",
        "                activation='sigmoid')(up4)\n",
        "\n",
        "    model = Model(inputs, out)\n",
        "    \n",
        "    return model"
      ],
      "execution_count": null,
      "outputs": []
    },
    {
      "cell_type": "markdown",
      "metadata": {
        "id": "cBWG0Qb6k-e8",
        "colab_type": "text"
      },
      "source": [
        "### Metrics"
      ]
    },
    {
      "cell_type": "code",
      "metadata": {
        "id": "WH1PuF0ClA1a",
        "colab_type": "code",
        "colab": {}
      },
      "source": [
        "smooth = 1e-15\n",
        "def iou(y_true, y_pred):\n",
        "  y_true = tf.keras.layers.Flatten()(y_true)\n",
        "  y_pred = tf.keras.layers.Flatten()(y_pred)\n",
        "  intersection = tf.reduce_sum(y_true * y_pred)\n",
        "  union = tf.reduce_sum(y_true) + tf.reduce_sum(y_pred) - intersection\n",
        "  return (intersection + smooth) / (union + smooth)\n",
        "\n",
        "def iou_loss(y_true, y_pred):\n",
        "  return 1.0 - iou(y_true, y_pred)"
      ],
      "execution_count": null,
      "outputs": []
    },
    {
      "cell_type": "markdown",
      "metadata": {
        "id": "WCB7KKXMh8VM",
        "colab_type": "text"
      },
      "source": [
        "### Huấn luyện mô hình"
      ]
    },
    {
      "cell_type": "code",
      "metadata": {
        "id": "ZtBVlZqYiBxX",
        "colab_type": "code",
        "colab": {}
      },
      "source": [
        "img_paths = 'dataset/Original'\n",
        "mask_paths = 'dataset/MASKS'\n",
        "model_path = 'trained_model/hair_segmentation.h5'\n",
        "json_path = 'dataset/data.json'"
      ],
      "execution_count": null,
      "outputs": []
    },
    {
      "cell_type": "code",
      "metadata": {
        "id": "RZC7rzTliegs",
        "colab_type": "code",
        "colab": {}
      },
      "source": [
        "# Tham số huấn luyện mô hình \n",
        "batch_size = 32\n",
        "lr = 1e-3\n",
        "epochs = 10\n",
        "momentum = 0.9\n",
        "num_classes = 1"
      ],
      "execution_count": null,
      "outputs": []
    },
    {
      "cell_type": "code",
      "metadata": {
        "id": "f8j32KyFire4",
        "colab_type": "code",
        "colab": {}
      },
      "source": [
        "# Load dữ liệu \n",
        "data = load_json(json_path)\n",
        "test_loader = Dataset(data['test'], phase='Testing', batch_size=batch_size)\n",
        "train_loader = Dataset(data['train'], phase='Training', batch_size=batch_size)"
      ],
      "execution_count": null,
      "outputs": []
    },
    {
      "cell_type": "code",
      "metadata": {
        "id": "fXLAz073E9bG",
        "colab_type": "code",
        "colab": {}
      },
      "source": [
        "import tensorflow.keras.backend\n",
        "\n",
        "K = tf.keras.backend.backend()\n",
        "if K=='tensorflow':\n",
        "    tf.keras.backend.set_image_data_format(\"channels_last\")"
      ],
      "execution_count": null,
      "outputs": []
    },
    {
      "cell_type": "code",
      "metadata": {
        "id": "_0cNJ4qSi34J",
        "colab_type": "code",
        "colab": {}
      },
      "source": [
        "# load model\n",
        "model = Unet()\n",
        "\n",
        "losses = tf.keras.losses.BinaryCrossentropy()\n",
        "optimizer = tf.keras.optimizers.SGD(learning_rate=lr, momentum=momentum)\n",
        "metrics = [iou, Recall(), Precision()]"
      ],
      "execution_count": null,
      "outputs": []
    },
    {
      "cell_type": "code",
      "metadata": {
        "id": "cFrTZUBunHxN",
        "colab_type": "code",
        "colab": {}
      },
      "source": [
        "# Lập lịch cho learning rate\n",
        "def scheduler(epoch, lr):\n",
        "  if epoch < 4:\n",
        "    return lr\n",
        "  else:\n",
        "    return lr * tf.math.exp(-0.1)"
      ],
      "execution_count": null,
      "outputs": []
    },
    {
      "cell_type": "code",
      "metadata": {
        "id": "IdnBNh-hjUn9",
        "colab_type": "code",
        "colab": {}
      },
      "source": [
        "# huấn luyện \n",
        "model.compile(optimizer=optimizer, loss=losses, metrics=metrics)\n",
        "callback = tf.keras.callbacks.LearningRateScheduler(scheduler)\n",
        "\n",
        "model.fit_generator(train_loader,\n",
        "                    steps_per_epoch=len(train_loader),\n",
        "                    epochs=epochs,\n",
        "                    callbacks=[callback],\n",
        "                    validation_data=test_loader,\n",
        "                    validation_steps=len(test_loader))"
      ],
      "execution_count": null,
      "outputs": []
    },
    {
      "cell_type": "code",
      "metadata": {
        "id": "26u1fDv9kdab",
        "colab_type": "code",
        "colab": {}
      },
      "source": [
        "model.save(model_path)"
      ],
      "execution_count": null,
      "outputs": []
    },
    {
      "cell_type": "markdown",
      "metadata": {
        "id": "88qTeb-LjDU7",
        "colab_type": "text"
      },
      "source": [
        "### Download model "
      ]
    },
    {
      "cell_type": "code",
      "metadata": {
        "id": "YBD_9lzpjGJP",
        "colab_type": "code",
        "colab": {
          "base_uri": "https://localhost:8080/",
          "height": 34
        },
        "outputId": "e3165faf-d3d7-4018-da3e-6385388091b4"
      },
      "source": [
        "from google.colab import files\n",
        "files.download(model_path) "
      ],
      "execution_count": null,
      "outputs": [
        {
          "output_type": "display_data",
          "data": {
            "application/javascript": [
              "\n",
              "    async function download(id, filename, size) {\n",
              "      if (!google.colab.kernel.accessAllowed) {\n",
              "        return;\n",
              "      }\n",
              "      const div = document.createElement('div');\n",
              "      const label = document.createElement('label');\n",
              "      label.textContent = `Downloading \"${filename}\": `;\n",
              "      div.appendChild(label);\n",
              "      const progress = document.createElement('progress');\n",
              "      progress.max = size;\n",
              "      div.appendChild(progress);\n",
              "      document.body.appendChild(div);\n",
              "\n",
              "      const buffers = [];\n",
              "      let downloaded = 0;\n",
              "\n",
              "      const channel = await google.colab.kernel.comms.open(id);\n",
              "      // Send a message to notify the kernel that we're ready.\n",
              "      channel.send({})\n",
              "\n",
              "      for await (const message of channel.messages) {\n",
              "        // Send a message to notify the kernel that we're ready.\n",
              "        channel.send({})\n",
              "        if (message.buffers) {\n",
              "          for (const buffer of message.buffers) {\n",
              "            buffers.push(buffer);\n",
              "            downloaded += buffer.byteLength;\n",
              "            progress.value = downloaded;\n",
              "          }\n",
              "        }\n",
              "      }\n",
              "      const blob = new Blob(buffers, {type: 'application/binary'});\n",
              "      const a = document.createElement('a');\n",
              "      a.href = window.URL.createObjectURL(blob);\n",
              "      a.download = filename;\n",
              "      div.appendChild(a);\n",
              "      a.click();\n",
              "      div.remove();\n",
              "    }\n",
              "  "
            ],
            "text/plain": [
              "<IPython.core.display.Javascript object>"
            ]
          },
          "metadata": {
            "tags": []
          }
        },
        {
          "output_type": "display_data",
          "data": {
            "application/javascript": [
              "download(\"download_62e7c92e-5c73-45a7-93e0-f2980d307a5b\", \"hair_segmentation.h5\", 248762040)"
            ],
            "text/plain": [
              "<IPython.core.display.Javascript object>"
            ]
          },
          "metadata": {
            "tags": []
          }
        }
      ]
    },
    {
      "cell_type": "markdown",
      "metadata": {
        "id": "2r2ObT_Dmnvt",
        "colab_type": "text"
      },
      "source": [
        "### Test mô hình "
      ]
    },
    {
      "cell_type": "code",
      "metadata": {
        "id": "W4Xb3Gxhmi9D",
        "colab_type": "code",
        "colab": {}
      },
      "source": [
        "def preprocessing(img):\n",
        "  img, mask = Resize(dim=(224, 224))(img, img)\n",
        "  img, mask = Normalize(std=[0.229, 0.224, 0.225],\n",
        "                        mean=[0.485, 0.456, 0.406])(img, mask)\n",
        "  img, _ = ToTensor()(img, mask[:, :, 0])\n",
        "\n",
        "  return img\n"
      ],
      "execution_count": null,
      "outputs": []
    },
    {
      "cell_type": "code",
      "metadata": {
        "id": "kUmQ5jagnSgB",
        "colab_type": "code",
        "colab": {}
      },
      "source": [
        "img = cv2.imread('/content/dataset/Original/Testing/Frame00583-org.jpg')\n",
        "img1 = preprocessing(img)\n",
        "img1 = tf.expand_dims(img1, axis=0)"
      ],
      "execution_count": null,
      "outputs": []
    },
    {
      "cell_type": "code",
      "metadata": {
        "id": "IbQQgj20ne9-",
        "colab_type": "code",
        "colab": {}
      },
      "source": [
        "mask = model.predict(img1)"
      ],
      "execution_count": null,
      "outputs": []
    },
    {
      "cell_type": "code",
      "metadata": {
        "id": "TqXjRRN6pHIB",
        "colab_type": "code",
        "colab": {}
      },
      "source": [
        "mask_ = np.squeeze(mask)"
      ],
      "execution_count": null,
      "outputs": []
    },
    {
      "cell_type": "code",
      "metadata": {
        "id": "FAe7PW1WofST",
        "colab_type": "code",
        "colab": {}
      },
      "source": [
        "plt.imshow(np.ndarray.astype(mask_*255, np.uint8), cmap='gray')"
      ],
      "execution_count": null,
      "outputs": []
    },
    {
      "cell_type": "code",
      "metadata": {
        "id": "hCVkhLIhpUne",
        "colab_type": "code",
        "colab": {}
      },
      "source": [
        "plt.imshow(cv2.cvtColor(img, cv2.COLOR_BGR2RGB))"
      ],
      "execution_count": null,
      "outputs": []
    }
  ]
}