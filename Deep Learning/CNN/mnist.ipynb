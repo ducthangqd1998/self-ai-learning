{
  "nbformat": 4,
  "nbformat_minor": 0,
  "metadata": {
    "colab": {
      "name": "mnist.ipynb",
      "provenance": []
    },
    "kernelspec": {
      "name": "python3",
      "display_name": "Python 3"
    },
    "accelerator": "GPU"
  },
  "cells": [
    {
      "cell_type": "markdown",
      "metadata": {
        "id": "x3dVHq_yjiZa",
        "colab_type": "text"
      },
      "source": [
        "Chúng ta sẽ tiến hành bài toán cơ bản nhất mà ai cũng bắt đầu khi mới làm quen về việc thiết kế một mô hình CV. Đó là phân loại chữ số viết tay với bộ dữ liệu mnist."
      ]
    },
    {
      "cell_type": "markdown",
      "metadata": {
        "id": "6vz-SRdSj25J",
        "colab_type": "text"
      },
      "source": [
        "mnist là bộ dữ liệu viết tay gồm 10 loại số, được đánh nhãn từ 1 đến 10, với khoảng 70 ngàn ảnh, chúng ta sẽ chia 60 ngàn ảnh cho huấn luyện và 10 ngàn ảnh cho kiểm tra."
      ]
    },
    {
      "cell_type": "markdown",
      "metadata": {
        "id": "0_U19hLOkiYH",
        "colab_type": "text"
      },
      "source": [
        "Chúng ta sẽ tiến hành xây dựng mô hình theo kiến trúc như thế này\n",
        "\n",
        "<td> <img src=\"https://pic1.zhimg.com/v2-c0bb3e9195753191330faebe77417594_1440w.jpg?source=172ae18b\" alt=\"Drawing\" style=\"width: 30%;\"/> </td>\n",
        "\n",
        "\n"
      ]
    },
    {
      "cell_type": "code",
      "metadata": {
        "id": "2t1YZgscj0NB",
        "colab_type": "code",
        "colab": {
          "base_uri": "https://localhost:8080/",
          "height": 35
        },
        "outputId": "c79b9f01-c959-44d8-ab12-5ffe443153e1"
      },
      "source": [
        "import tensorflow as tf\n",
        "from tensorflow.keras.layers import Dense, Flatten, Conv2D, MaxPool2D, Dropout\n",
        "from tensorflow.keras import Model\n",
        "\n",
        "import numpy as np\n",
        "import matplotlib.pyplot as plt\n",
        "\n",
        "tf.__version__"
      ],
      "execution_count": 76,
      "outputs": [
        {
          "output_type": "execute_result",
          "data": {
            "application/vnd.google.colaboratory.intrinsic+json": {
              "type": "string"
            },
            "text/plain": [
              "'2.3.0'"
            ]
          },
          "metadata": {
            "tags": []
          },
          "execution_count": 76
        }
      ]
    },
    {
      "cell_type": "code",
      "metadata": {
        "id": "L5zNOZkMmPnd",
        "colab_type": "code",
        "colab": {
          "base_uri": "https://localhost:8080/",
          "height": 357
        },
        "outputId": "6faaf366-b297-4825-c866-193908088699"
      },
      "source": [
        "# Kiểm tra GPU đang chạy là gì\n",
        "! nvidia-smi"
      ],
      "execution_count": 13,
      "outputs": [
        {
          "output_type": "stream",
          "text": [
            "Tue Aug 25 07:56:35 2020       \n",
            "+-----------------------------------------------------------------------------+\n",
            "| NVIDIA-SMI 450.57       Driver Version: 418.67       CUDA Version: 10.1     |\n",
            "|-------------------------------+----------------------+----------------------+\n",
            "| GPU  Name        Persistence-M| Bus-Id        Disp.A | Volatile Uncorr. ECC |\n",
            "| Fan  Temp  Perf  Pwr:Usage/Cap|         Memory-Usage | GPU-Util  Compute M. |\n",
            "|                               |                      |               MIG M. |\n",
            "|===============================+======================+======================|\n",
            "|   0  Tesla K80           Off  | 00000000:00:04.0 Off |                    0 |\n",
            "| N/A   31C    P8    27W / 149W |      0MiB / 11441MiB |      0%      Default |\n",
            "|                               |                      |                 ERR! |\n",
            "+-------------------------------+----------------------+----------------------+\n",
            "                                                                               \n",
            "+-----------------------------------------------------------------------------+\n",
            "| Processes:                                                                  |\n",
            "|  GPU   GI   CI        PID   Type   Process name                  GPU Memory |\n",
            "|        ID   ID                                                   Usage      |\n",
            "|=============================================================================|\n",
            "|  No running processes found                                                 |\n",
            "+-----------------------------------------------------------------------------+\n"
          ],
          "name": "stdout"
        }
      ]
    },
    {
      "cell_type": "code",
      "metadata": {
        "id": "oaKz03Y_laJQ",
        "colab_type": "code",
        "colab": {}
      },
      "source": [
        "# Định nghĩa một vài thông số\n",
        "num_classes = 10\n",
        "epochs = 12\n",
        "batch_size = 128\n",
        "lr = 1e-3"
      ],
      "execution_count": 95,
      "outputs": []
    },
    {
      "cell_type": "code",
      "metadata": {
        "id": "iaRt9c6jmhuL",
        "colab_type": "code",
        "colab": {}
      },
      "source": [
        "# Tải bộ dữ liệu mnist\n",
        "mnist = tf.keras.datasets.mnist\n",
        "(train_images, train_labels), (test_images, test_labels) = mnist.load_data()"
      ],
      "execution_count": 6,
      "outputs": []
    },
    {
      "cell_type": "code",
      "metadata": {
        "id": "pakjOeSWmh4S",
        "colab_type": "code",
        "colab": {
          "base_uri": "https://localhost:8080/",
          "height": 34
        },
        "outputId": "4b377215-2fa5-4231-8706-95c78a437d4d"
      },
      "source": [
        "# Kiểm tra kích thước dữ liệu\n",
        "train_images.shape\n",
        "test_images.shape"
      ],
      "execution_count": 14,
      "outputs": [
        {
          "output_type": "execute_result",
          "data": {
            "text/plain": [
              "(10000, 28, 28)"
            ]
          },
          "metadata": {
            "tags": []
          },
          "execution_count": 14
        }
      ]
    },
    {
      "cell_type": "code",
      "metadata": {
        "id": "AT7zkBZhmh0-",
        "colab_type": "code",
        "colab": {}
      },
      "source": [
        "# Chuẩn hóa dữ liệu bằng cách chia cho 255\n",
        "train_images, test_images = train_images/255.0, test_images/255.0"
      ],
      "execution_count": 12,
      "outputs": []
    },
    {
      "cell_type": "code",
      "metadata": {
        "id": "uldCX9_0oJ17",
        "colab_type": "code",
        "colab": {}
      },
      "source": [
        "# Xây dựng kiến trúc mô hình phân loại\n",
        "\n",
        "class my_model(Model):\n",
        "  def __init__(self):\n",
        "    super(my_model, self).__init__()\n",
        "    self.conv1 = Conv2D(32, kernel_size=3, activation='relu', input_shape=(28, 28))\n",
        "    self.pool = MaxPool2D(pool_size=2)\n",
        "    self.conv2 = Conv2D(32, kernel_size=5, activation='relu')\n",
        "    self.drop = Dropout(0.25)\n",
        "    self.flatten = Flatten()\n",
        "    self.d1 = Dense(128, activation='relu')\n",
        "    self.d2 = Dense(num_classes, activation='softmax')\n",
        "\n",
        "  def call(self, x):\n",
        "    x = tf.reshape(x, [-1, 28, 28, 1])\n",
        "    x = self.conv1(x)\n",
        "    x = self.pool(x)\n",
        "\n",
        "    x = self.conv2(x)\n",
        "    x = self.pool(x)\n",
        "    x = self.drop(x)\n",
        "\n",
        "    x = self.flatten(x)\n",
        "    x = self.d1(x)\n",
        "    x = self.drop(x)\n",
        "\n",
        "    out = self.d2(x)\n",
        "    return out"
      ],
      "execution_count": 85,
      "outputs": []
    },
    {
      "cell_type": "code",
      "metadata": {
        "id": "-6dNg8zZrEZ5",
        "colab_type": "code",
        "colab": {}
      },
      "source": [
        "model = my_model()\n",
        "model.compile(optimizer=tf.optimizers.Adam(lr),\n",
        "              loss='sparse_categorical_crossentropy',\n",
        "              metrics=['accuracy'])"
      ],
      "execution_count": 96,
      "outputs": []
    },
    {
      "cell_type": "code",
      "metadata": {
        "id": "o7Q_LllLtNip",
        "colab_type": "code",
        "colab": {
          "base_uri": "https://localhost:8080/",
          "height": 459
        },
        "outputId": "c9002e19-80ff-4cbe-ee16-cd27f15cffbb"
      },
      "source": [
        "model.fit(train_images, train_labels, epochs=epochs, batch_size=batch_size)\n",
        "model.evaluate(test_images, test_labels, verbose=2)"
      ],
      "execution_count": 97,
      "outputs": [
        {
          "output_type": "stream",
          "text": [
            "Epoch 1/12\n",
            "469/469 [==============================] - 3s 7ms/step - loss: 0.2995 - accuracy: 0.9069\n",
            "Epoch 2/12\n",
            "469/469 [==============================] - 3s 6ms/step - loss: 0.0928 - accuracy: 0.9719\n",
            "Epoch 3/12\n",
            "469/469 [==============================] - 3s 6ms/step - loss: 0.0664 - accuracy: 0.9789\n",
            "Epoch 4/12\n",
            "469/469 [==============================] - 3s 6ms/step - loss: 0.0533 - accuracy: 0.9834\n",
            "Epoch 5/12\n",
            "469/469 [==============================] - 3s 7ms/step - loss: 0.0464 - accuracy: 0.9854\n",
            "Epoch 6/12\n",
            "469/469 [==============================] - 3s 7ms/step - loss: 0.0397 - accuracy: 0.9880\n",
            "Epoch 7/12\n",
            "469/469 [==============================] - 3s 6ms/step - loss: 0.0379 - accuracy: 0.9879\n",
            "Epoch 8/12\n",
            "469/469 [==============================] - 3s 7ms/step - loss: 0.0341 - accuracy: 0.9889\n",
            "Epoch 9/12\n",
            "469/469 [==============================] - 3s 6ms/step - loss: 0.0308 - accuracy: 0.9904\n",
            "Epoch 10/12\n",
            "469/469 [==============================] - 3s 7ms/step - loss: 0.0275 - accuracy: 0.9913\n",
            "Epoch 11/12\n",
            "469/469 [==============================] - 3s 6ms/step - loss: 0.0255 - accuracy: 0.9918\n",
            "Epoch 12/12\n",
            "469/469 [==============================] - 3s 6ms/step - loss: 0.0236 - accuracy: 0.9925\n",
            "313/313 - 1s - loss: 0.0238 - accuracy: 0.9921\n"
          ],
          "name": "stdout"
        },
        {
          "output_type": "execute_result",
          "data": {
            "text/plain": [
              "[0.023816920816898346, 0.9921000003814697]"
            ]
          },
          "metadata": {
            "tags": []
          },
          "execution_count": 97
        }
      ]
    },
    {
      "cell_type": "code",
      "metadata": {
        "id": "EzCo5vxKsTJ8",
        "colab_type": "code",
        "colab": {}
      },
      "source": [
        ""
      ],
      "execution_count": null,
      "outputs": []
    }
  ]
}