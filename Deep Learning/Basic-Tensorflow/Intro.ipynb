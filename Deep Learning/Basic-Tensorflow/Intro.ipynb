{
 "cells": [
  {
   "cell_type": "markdown",
   "metadata": {},
   "source": [
    "## Tensorflow \n",
    "\n",
    "**Tensorlfow** là một thư viện học máy được phát hành bởi Google\n",
    "* Được sử dụng tốt cho các mô hình học sâu\n",
    "* Được sử dụng cho nghiên cứu và xây dựng các sản phẩm\n",
    "\n",
    "<td> <img src=\"https://lh3.google.com/u/0/d/1iCyyRlIN1cb8zExGpQGXCoRefI1pCvzF=w1329-h588-iv1\" alt=\"Drawing\" style=\"width: 500px;\"/> </td>\n",
    "\n",
    "#### Tensorflow Architecture \n",
    "1. **Data pre-processing**: Thu thập các dữ liệu phi cấu trúc, tiến hành tiền xử lí thành các dữ liệu có cấu trúc và có giá trị giới hạn nhằm chuẩn bị quá trình huấn luyện.\n",
    "2. **Model building**: Xây dựng mô hình\n",
    "3. **Train and estimate the model**: Sử dụng dữ liệu để huấn luyện mô hình. Huấn luyện qua các epoch nhằm tăng độ chính xác và giảm loss. Tiến hành kiểm thử với dữ liệu không có nhãn.\n",
    "\n",
    "#### Core Concepts \n",
    "Tensorflow gồm hai phần chính:\n",
    "\n",
    "* **Library**: Định nghĩa computational graphs \n",
    "* **Runtime**: Tiến hành thực thi (executing) các graphs trên các nền tảng phần cứng khác nhau.\n",
    "<td> <img src=\"https://miro.medium.com/max/700/0*JLCdd59SMZ6XWdm2\" alt=\"Drawing\" style=\"width: 500px;\"/> </td>\n",
    "\n",
    "Khi chúng ta xây dựng các thuật toán học máy với TF, thì chúng ta sẽ xây dựng kiến trúc mô hình, sau đó sẽ được dịch (translate) vào TF computational graphs và sẽ chuyển đến **Runtime**. Sau đó thì **Runtime** sẽ lo phần còn lại. Chíu chíu."
   ]
  },
  {
   "cell_type": "markdown",
   "metadata": {},
   "source": [
    "### Computational Graph \n",
    "\n",
    "**Khái niệm**: Trong TF, các thuật toán học máy được biểu diễn như một computational graphs. Một CP là một đồ thị có hướng mà ở đó mỗi nốt (node) biểu diễn một phép tính (operation), trong khi đó mỗi cạnh (edge) thì biểu diễn dữ liệu (tensor) giữa các nốt. \n",
    "\n",
    "Một vài khái niệm liên quan đến CP.\n",
    "* **Tensors**: Một tensor biểu diễn một mảng nhiều chiều (multidemensional arrays). Tensors thường sẽ có shape và data type, ko có giá trị thực tế. \n",
    "* **Operations**: Có thể có không hoặc nhiều đầu vào và có thể tạo ra không hoặc nhiều đầu ra. Như vậy một operation có thể là một phường trình toán học, biến, hằng số hoặc một luồng điều khiển (control flow directive).\n",
    "* **Variables**: Tất cả các tham số có thể huấn luyện (trainable parameters) của mô hình học máy là *tf.Variables*. Một biến có thể được định nghĩa bởi tên (name), kiểu (type), shape ...\n",
    "\n",
    "Từ TF được ghép bởi \"Tensor\" + \"Flow\" nghĩa là tensor (data) flow thông quan CP\n",
    "\n",
    "Khi định nghĩa một graph, chúng ta sẽ sử dụng hàm *tf.Graph*. Tại thời điểm thực thi, chúng ta sử dụng TF runtime để thực thi tính toán."
   ]
  },
  {
   "cell_type": "code",
   "execution_count": 1,
   "metadata": {},
   "outputs": [],
   "source": [
    "import tensorflow as tf\n",
    "import numpy as np"
   ]
  },
  {
   "cell_type": "code",
   "execution_count": 2,
   "metadata": {},
   "outputs": [
    {
     "data": {
      "text/plain": [
       "'2.3.0'"
      ]
     },
     "execution_count": 2,
     "metadata": {},
     "output_type": "execute_result"
    }
   ],
   "source": [
    "tf.__version__"
   ]
  },
  {
   "cell_type": "code",
   "execution_count": 21,
   "metadata": {},
   "outputs": [
    {
     "name": "stdout",
     "output_type": "stream",
     "text": [
      "tf.Tensor(2.0, shape=(), dtype=float32)\n"
     ]
    }
   ],
   "source": [
    "# Ví dụ về graph \n",
    "a = tf.constant(1.0) # nó là 1 op và sẽ được thêm vào 1 nốt vào tf.Graphs mặc định\n",
    "b = tf.constant(1.0) \n",
    "c = tf.add(a, b)\n",
    "print(c)"
   ]
  },
  {
   "cell_type": "markdown",
   "metadata": {},
   "source": [
    "<td> <img src=\"https://miro.medium.com/max/700/0*r6fTd-2PZf2YdKSA\" alt=\"Drawing\" style=\"width: 70%; display: block; margin: 0, auto\"/> </td>\n",
    "\n",
    "\n"
   ]
  },
  {
   "cell_type": "markdown",
   "metadata": {},
   "source": [
    "### Variables\n",
    "\n",
    "**Variable**: Các biến được tạo và theo dõi thông qua lớp *tf.Variable*. Một *tf.Variable* đại diện cho một tensor có giá trị có thể thay đổi bằng cách chạy các hoạt động trên nó. Các hoạt động cụ thể cho phép bạn đọc và sửa đổi các giá trị của tensor này. Các thư viện cấp cao hơn như *tf.keras* sử dụng *tf.Variable* để lưu trữ các tham số của mô hình.\n",
    "\n",
    "Để tạo một biến, hãy cung cấp một giá trị ban đầu. *tf.Variable* sẽ có cùng dtype với giá trị khởi tạo."
   ]
  },
  {
   "cell_type": "code",
   "execution_count": 24,
   "metadata": {},
   "outputs": [],
   "source": [
    "my_tensor = tf.constant([[1.0, 2.0], [3.0, 4.0]])\n",
    "my_variable = tf.Variable(my_tensor)\n",
    "\n",
    "# Variables can be all kinds of types, just like tensors\n",
    "bool_variable = tf.Variable([False, False, False, True])\n",
    "complex_variable = tf.Variable([5 + 4j, 6 + 1j])"
   ]
  },
  {
   "cell_type": "markdown",
   "metadata": {},
   "source": [
    "Một biến trông và hoạt động giống như tensor, và trên thực tế, biến là một cấu trúc dữ liệu được hỗ trợ bởi *tf.Tensor* . Giống như tensors, chúng có một *dtype* và một *shape*, và có thể được chuyển sang NumPy."
   ]
  },
  {
   "cell_type": "code",
   "execution_count": 25,
   "metadata": {},
   "outputs": [
    {
     "name": "stdout",
     "output_type": "stream",
     "text": [
      "A variable: <tf.Variable 'Variable:0' shape=(2, 2) dtype=float32, numpy=\n",
      "array([[1., 2.],\n",
      "       [3., 4.]], dtype=float32)>\n",
      "\n",
      "Viewed as a tensor: tf.Tensor(\n",
      "[[1. 2.]\n",
      " [3. 4.]], shape=(2, 2), dtype=float32)\n",
      "\n",
      "Index of highest value: tf.Tensor([1 1], shape=(2,), dtype=int64)\n",
      "\n",
      "Copying and reshaping:  tf.Tensor([[1. 2. 3. 4.]], shape=(1, 4), dtype=float32)\n"
     ]
    }
   ],
   "source": [
    "print(\"A variable:\", my_variable)\n",
    "print(\"\\nViewed as a tensor:\", tf.convert_to_tensor(my_variable))\n",
    "print(\"\\nIndex of highest value:\", tf.argmax(my_variable))\n",
    "\n",
    "# This creates a new tensor; it does not reshape the variable.\n",
    "print(\"\\nCopying and reshaping: \", tf.reshape(my_variable, ([1,4])))"
   ]
  },
  {
   "cell_type": "markdown",
   "metadata": {},
   "source": [
    "Nếu chúng ta sử dụng biến như một tensor trong operations, chúng ta thường hoạt động trên backing tensor (cái này dịch tensor nền dc ko nhỉ?).\n",
    "\n",
    "Khi tạo một biến mới từ một biến đã tồn tại thì sẽ nhân đôi tensor vì chúng không dùng chung bộ nhớ. "
   ]
  },
  {
   "cell_type": "code",
   "execution_count": 28,
   "metadata": {},
   "outputs": [
    {
     "name": "stdout",
     "output_type": "stream",
     "text": [
      "[5. 6.]\n",
      "[2. 3.]\n",
      "[7. 9.]\n",
      "[0. 0.]\n"
     ]
    }
   ],
   "source": [
    "a = tf.Variable([2.0, 3.0])\n",
    "# Create b based on the value of a\n",
    "b = tf.Variable(a)\n",
    "a.assign([5, 6])\n",
    "\n",
    "# a and b are different\n",
    "print(a.numpy())\n",
    "print(b.numpy())\n",
    "\n",
    "# There are other versions of assign\n",
    "print(a.assign_add([2,3]).numpy())  # [7. 9.]\n",
    "print(a.assign_sub([7,9]).numpy())  # [0. 0.]"
   ]
  },
  {
   "cell_type": "markdown",
   "metadata": {},
   "source": [
    "#### Một số bài viết khá hay: \n",
    "https://www.facebook.com/notes/forum-deep-learning-v%C3%A0-%E1%BB%A9ng-d%E1%BB%A5ng/t%C3%ACm-hi%E1%BB%83u-tensor-v%C3%A0-m%E1%BB%99t-s%E1%BB%91-tensor-data-trong-deep-learning/1625331727576436/"
   ]
  }
 ],
 "metadata": {
  "kernelspec": {
   "display_name": "Python 3",
   "language": "python",
   "name": "python3"
  },
  "language_info": {
   "codemirror_mode": {
    "name": "ipython",
    "version": 3
   },
   "file_extension": ".py",
   "mimetype": "text/x-python",
   "name": "python",
   "nbconvert_exporter": "python",
   "pygments_lexer": "ipython3",
   "version": "3.6.9"
  }
 },
 "nbformat": 4,
 "nbformat_minor": 4
}
