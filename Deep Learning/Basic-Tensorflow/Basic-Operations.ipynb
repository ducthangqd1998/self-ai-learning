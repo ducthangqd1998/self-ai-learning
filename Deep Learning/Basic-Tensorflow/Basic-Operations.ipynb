{
 "cells": [
  {
   "cell_type": "code",
   "execution_count": 1,
   "metadata": {},
   "outputs": [],
   "source": [
    "from __future__ import absolute_import, division, print_function, unicode_literals\n",
    "import tensorflow as tf\n",
    "import numpy as np"
   ]
  },
  {
   "cell_type": "code",
   "execution_count": 3,
   "metadata": {},
   "outputs": [
    {
     "data": {
      "text/plain": [
       "'2.3.0'"
      ]
     },
     "execution_count": 3,
     "metadata": {},
     "output_type": "execute_result"
    }
   ],
   "source": [
    "tf.__version__"
   ]
  },
  {
   "cell_type": "markdown",
   "metadata": {},
   "source": [
    "### Tensor\n",
    "\n",
    "**Tensor** là yếu tố chính để ta thực hiện tính toán trong TF. Nói chung tensor là một mảng nhiều chiều với kiểu dữ liệu xác định. Nghĩa là mỗi thành phần của tensor có cùng kiểu dữ liệu (tf.int32, tf.float32, ...) và luôn như vậy trong quá trình tính toán. Có nhiều cách để tạo ra tensor, nhưng hai cách chủ yếu là constants và variables."
   ]
  },
  {
   "cell_type": "markdown",
   "metadata": {},
   "source": [
    "**Constants**\n",
    "\n",
    "Sử dụng các phương thức: tf.ones(), tf.zeros(), tr.eye(), ..."
   ]
  },
  {
   "cell_type": "code",
   "execution_count": 5,
   "metadata": {},
   "outputs": [
    {
     "data": {
      "text/plain": [
       "<tf.Tensor: shape=(2, 3), dtype=int32, numpy=\n",
       "array([[1, 1, 1],\n",
       "       [1, 1, 1]], dtype=int32)>"
      ]
     },
     "execution_count": 5,
     "metadata": {},
     "output_type": "execute_result"
    }
   ],
   "source": [
    "a = tf.ones(shape=(2,3), dtype=tf.int32)\n",
    "a"
   ]
  },
  {
   "cell_type": "code",
   "execution_count": 6,
   "metadata": {},
   "outputs": [
    {
     "data": {
      "text/plain": [
       "<tf.Tensor: shape=(2, 3), dtype=int32, numpy=\n",
       "array([[0, 0, 0],\n",
       "       [0, 0, 0]], dtype=int32)>"
      ]
     },
     "execution_count": 6,
     "metadata": {},
     "output_type": "execute_result"
    }
   ],
   "source": [
    "a = tf.zeros(shape=(2,3), dtype=tf.int32)\n",
    "a"
   ]
  },
  {
   "cell_type": "code",
   "execution_count": 10,
   "metadata": {},
   "outputs": [
    {
     "data": {
      "text/plain": [
       "<tf.Tensor: shape=(3, 3), dtype=int32, numpy=\n",
       "array([[1, 0, 0],\n",
       "       [0, 1, 0],\n",
       "       [0, 0, 1]], dtype=int32)>"
      ]
     },
     "execution_count": 10,
     "metadata": {},
     "output_type": "execute_result"
    }
   ],
   "source": [
    "a = tf.eye(3, dtype=tf.int32)\n",
    "a"
   ]
  },
  {
   "cell_type": "markdown",
   "metadata": {},
   "source": [
    "Tạo bằng cách truyền dữ liệu thông qua kiểu dữ liệu Python/numpy  [More info](https://www.tensorflow.org/api_docs/python/tf/constant)"
   ]
  },
  {
   "cell_type": "code",
   "execution_count": 11,
   "metadata": {},
   "outputs": [
    {
     "name": "stdout",
     "output_type": "stream",
     "text": [
      "b = tf.Tensor(\n",
      "[[1 2 3]\n",
      " [4 5 6]], shape=(2, 3), dtype=int32)\n",
      "\n",
      "c = tf.Tensor([b'hello' b'world'], shape=(2,), dtype=string)\n",
      "\n",
      "d = tf.Tensor(\n",
      "[[10. 10. 10. 10. 10.]\n",
      " [10. 10. 10. 10. 10.]], shape=(2, 5), dtype=float32)\n"
     ]
    }
   ],
   "source": [
    "b = tf.constant([[1, 2, 3], [4, 5, 6]])\n",
    "print(\"b =\",b);\n",
    "\n",
    "npvar = np.array([\"hello\", \"world\"])\n",
    "c = tf.constant(npvar)\n",
    "print(\"\\nc =\", c)\n",
    "\n",
    "d = tf.constant(10.0, shape=[2,5])\n",
    "print(\"\\nd =\", d)"
   ]
  },
  {
   "cell_type": "markdown",
   "metadata": {},
   "source": [
    "Tạo các biến ngẫu nhiên"
   ]
  },
  {
   "cell_type": "code",
   "execution_count": 12,
   "metadata": {},
   "outputs": [
    {
     "name": "stdout",
     "output_type": "stream",
     "text": [
      "e = tf.Tensor(\n",
      "[[ 1.0624503  -0.5085749   0.21090114]\n",
      " [ 0.30452174  1.9169184   0.54680943]], shape=(2, 3), dtype=float32)\n",
      "\n",
      "f = tf.Tensor(\n",
      "[[9 6 9]\n",
      " [4 3 9]], shape=(2, 3), dtype=int32)\n"
     ]
    }
   ],
   "source": [
    "e = tf.random.normal(shape=[2, 3], mean=0.0, stddev=1.0)\n",
    "print(\"e =\", e)\n",
    "\n",
    "f = tf.random.uniform( shape=[2,3], minval=0,maxval=10,dtype=tf.int32)\n",
    "print(\"\\nf =\", f)"
   ]
  },
  {
   "cell_type": "markdown",
   "metadata": {},
   "source": [
    "### Variables\n",
    "\n",
    "Cách duy nhất để tạo variable là dùng lớp *tf.variable(<required-init-name>, name=<optional-name>). TF sử dụng biến gán ban đầu để khởi tạo shape và kiểu dữ liệu (dtype), hai thuộc tính này không được thay đổi trong quá trình tính toán. "
   ]
  },
  {
   "cell_type": "code",
   "execution_count": 14,
   "metadata": {},
   "outputs": [
    {
     "name": "stdout",
     "output_type": "stream",
     "text": [
      "w = <tf.Variable 'my_var1:0' shape=() dtype=float32, numpy=20.0>\n",
      "\n",
      "x = <tf.Variable 'my_var2:0' shape=(2, 5) dtype=float32, numpy=\n",
      "array([[-0.37487346,  0.49646413, -0.77523494, -0.400365  ,  0.3821311 ],\n",
      "       [ 0.11485541,  0.10919476, -0.02570367,  0.47769165, -0.21898031]],\n",
      "      dtype=float32)>\n",
      "\n",
      "y = <tf.Variable 'my_var3:0' shape=(5,) dtype=float32, numpy=array([0., 0., 0., 0., 0.], dtype=float32)>\n"
     ]
    }
   ],
   "source": [
    "w = tf.Variable(20., name=\"my_var1\")\n",
    "print('w =', w)\n",
    "\n",
    "initializer = tf.initializers.GlorotUniform()\n",
    "x = tf.Variable(initializer(shape=(2, 5)), name=\"my_var2\")\n",
    "print('\\nx =', x)\n",
    "\n",
    "y = tf.Variable(tf.zeros([5]), name='my_var3')\n",
    "print('\\ny =', y)"
   ]
  },
  {
   "cell_type": "code",
   "execution_count": 21,
   "metadata": {},
   "outputs": [
    {
     "name": "stdout",
     "output_type": "stream",
     "text": [
      "v = tf.Tensor(43.0, shape=(), dtype=float32)\n",
      "v's type = <class 'tensorflow.python.framework.ops.EagerTensor'>\n",
      "w's type = <class 'tensorflow.python.ops.resource_variable_ops.ResourceVariable'>\n"
     ]
    }
   ],
   "source": [
    "# API của Variable hầu hết giống với tf.Tensor. Chúng ta có thể xem như là 1 tf.Tensor\n",
    "\n",
    "v = w + 1.  # v là một tf.Tensor và là kết quả của phép tính của variable w\n",
    "            # tf.Variable tự động ép kiểu (auto converted) sang tf.Tensor\n",
    "\n",
    "print(\"v =\", v)\n",
    "print(f\"v's type = {type(v)}\")\n",
    "print(f\"w's type = {type(w)}\")"
   ]
  },
  {
   "cell_type": "markdown",
   "metadata": {},
   "source": [
    "Để thay đổi giá trị hiện tại của variable ta có thể dùng hai phương thức assign (=) và assign_add (+=)."
   ]
  },
  {
   "cell_type": "code",
   "execution_count": 22,
   "metadata": {},
   "outputs": [
    {
     "name": "stdout",
     "output_type": "stream",
     "text": [
      "w = <tf.Variable 'my_var1:0' shape=() dtype=float32, numpy=42.0>\n",
      "w = <tf.Variable 'my_var1:0' shape=() dtype=float32, numpy=43.0>\n",
      "w = <tf.Variable 'my_var1:0' shape=() dtype=float32, numpy=86.0>\n"
     ]
    }
   ],
   "source": [
    "print('w =', w)\n",
    "w.assign(v)\n",
    "print('w =', w)\n",
    "w.assign_add(v)\n",
    "print('w =', w)"
   ]
  },
  {
   "cell_type": "markdown",
   "metadata": {},
   "source": [
    "### Rank, Shape, and Type Conversion¶"
   ]
  },
  {
   "cell_type": "code",
   "execution_count": 26,
   "metadata": {},
   "outputs": [
    {
     "name": "stdout",
     "output_type": "stream",
     "text": [
      "a = \n",
      "[[1 0 0]\n",
      " [0 1 0]\n",
      " [0 0 1]]\n",
      "a.dtype = <dtype: 'int32'>\n",
      "a.shape = (3, 3)\n",
      "a.rank = 2\n",
      "\n",
      "a.shape = tf.Tensor([3 3], shape=(2,), dtype=int32)\n",
      "a.rank = tf.Tensor(2, shape=(), dtype=int32)\n",
      "\n",
      "e (dtype = float - thực) = tf.Tensor(\n",
      "[[ 1.0624503  -0.5085749   0.21090114]\n",
      " [ 0.30452174  1.9169184   0.54680943]], shape=(2, 3), dtype=float32)\n",
      "\n",
      "e (dtype = int - nguyên) = tf.Tensor(\n",
      "[[1 0 0]\n",
      " [0 1 0]], shape=(2, 3), dtype=int32)\n",
      "\n",
      "type(e_np) = <class 'numpy.ndarray'>\n"
     ]
    },
    {
     "data": {
      "text/plain": [
       "array([[1, 0, 0],\n",
       "       [0, 1, 0]], dtype=int32)"
      ]
     },
     "execution_count": 26,
     "metadata": {},
     "output_type": "execute_result"
    }
   ],
   "source": [
    "\n",
    "print(f\"a = \\n{a}\")\n",
    "print(\"a.dtype =\", a.dtype)\n",
    "print(\"a.shape =\", a.shape)\n",
    "print(\"a.rank =\", len(a.shape))\n",
    "# or...\n",
    "print(\"\\na.shape =\", tf.shape(a))\n",
    "print(\"a.rank =\", tf.rank(a)) \n",
    "\n",
    "print(\"\\ne (dtype = float - thực) =\", e)\n",
    "e_int = tf.cast(e, tf.int32) # Chuyển sang kiểu int\n",
    "print(\"\\ne (dtype = int - nguyên) =\", e_int)\n",
    "\n",
    "# Chuyển kiểu Tensor sang numpy\n",
    "e_np = e_int.numpy()\n",
    "print(f\"\\ntype(e_np) = {type(e_np)}\")\n",
    "e_np"
   ]
  },
  {
   "cell_type": "markdown",
   "metadata": {},
   "source": [
    "### Tensor manipulation\n",
    "#### Element-Wise Operations"
   ]
  },
  {
   "cell_type": "code",
   "execution_count": 27,
   "metadata": {},
   "outputs": [
    {
     "name": "stdout",
     "output_type": "stream",
     "text": [
      "t1 + t2 = tf.Tensor(\n",
      "[[ 1  2  3]\n",
      " [ 4  6  7]\n",
      " [ 7  9 10]], shape=(3, 3), dtype=int32)\n",
      "t2 - t1 = tf.Tensor(\n",
      "[[1 2 3]\n",
      " [4 4 5]\n",
      " [7 7 8]], shape=(3, 3), dtype=int32)\n",
      "t1 * t2 = tf.Tensor(\n",
      "[[0 0 0]\n",
      " [0 5 6]\n",
      " [0 8 9]], shape=(3, 3), dtype=int32)\n",
      "t1 / t2 = tf.Tensor(\n",
      "[[0.         0.         0.        ]\n",
      " [0.         0.2        0.16666667]\n",
      " [0.         0.125      0.11111111]], shape=(3, 3), dtype=float64)\n"
     ]
    }
   ],
   "source": [
    "t1 = tf.constant([[0, 0, 0], [0, 1, 1], [0, 1, 1]])\n",
    "t2 = tf.constant([[1, 2, 3], [4, 5, 6], [7, 8, 9]])\n",
    "print('t1 + t2 =', t1 + t2)\n",
    "print('t2 - t1 =', t2 - t1)\n",
    "print('t1 * t2 =', t1 * t2)\n",
    "print('t1 / t2 =', t1 / t2)"
   ]
  },
  {
   "cell_type": "markdown",
   "metadata": {},
   "source": [
    "Broadcasting xảy ra trong các phép toán giữa khác tensor có shape khác nhau. Về cơ bản, TF sẽ \"broadcasts\" tensor nhỏ hơn trên ma trận lớn hơn để chúng tương thích với nhau. Có thể xem broadcasting giống như việc lặp đi lặp lại các giá trị tensor mà không cần sao chép chúng. \n",
    "<td> <img src=\"https://www.tutorialspoint.com/numpy/images/array.jpg\" alt=\"Drawing\" style=\"width: 500px;\"/> </td>\n",
    "\n",
    "[Nguồn](https://www.tutorialspoint.com/numpy/numpy_broadcasting.htm)"
   ]
  },
  {
   "cell_type": "code",
   "execution_count": 28,
   "metadata": {},
   "outputs": [
    {
     "name": "stdout",
     "output_type": "stream",
     "text": [
      "t1 + 100 = tf.Tensor([101 102 103 104], shape=(4,), dtype=int32)\n",
      "\n",
      "t1.shape = (2, 3), t2.shape = (1, 3)\n",
      "t1 + t2 = tf.Tensor(\n",
      "[[101 202 303]\n",
      " [104 205 306]], shape=(2, 3), dtype=int32)\n",
      "\n",
      "t1.shape = (2, 3), t2.shape = (2, 1)\n",
      "t1 + t2 = tf.Tensor(\n",
      "[[101 102 103]\n",
      " [204 205 206]], shape=(2, 3), dtype=int32)\n",
      "\n",
      "t1.shape = (1, 3), t2.shape = (2, 1)\n",
      "t1 + t2 = tf.Tensor(\n",
      "[[101 102 103]\n",
      " [201 202 203]], shape=(2, 3), dtype=int32)\n"
     ]
    }
   ],
   "source": [
    "t1 = tf.constant([1, 2, 3, 4])\n",
    "print(\"t1 + 100 =\", t1 + 100)\n",
    "\n",
    "# (m, n) + (1, n)\n",
    "t1 = tf.constant([[1, 2, 3], \n",
    "                  [4, 5, 6]])\n",
    "t2 = tf.constant([[100, 200, 300]])\n",
    "print(f\"\\nt1.shape = {t1.shape}, t2.shape = {t2.shape}\")\n",
    "print(\"t1 + t2 =\", t1 + t2)\n",
    "\n",
    "# (m, n) + (n, 1)\n",
    "t1 = tf.constant([[1, 2, 3], \n",
    "                  [4, 5, 6]])\n",
    "t2 = tf.constant([[100], \n",
    "                  [200]])\n",
    "print(f\"\\nt1.shape = {t1.shape}, t2.shape = {t2.shape}\")\n",
    "print(\"t1 + t2 =\", t1 + t2)\n",
    "\n",
    "# (1, n) + (m, 1)\n",
    "t1 = tf.constant([[1, 2, 3]])\n",
    "t2 = tf.constant([[100], \n",
    "                  [200]])\n",
    "print(f\"\\nt1.shape = {t1.shape}, t2.shape = {t2.shape}\")\n",
    "print(\"t1 + t2 =\", t1 + t2)"
   ]
  },
  {
   "cell_type": "markdown",
   "metadata": {},
   "source": [
    "#### Matrix Multiplication"
   ]
  },
  {
   "cell_type": "code",
   "execution_count": 29,
   "metadata": {},
   "outputs": [
    {
     "name": "stdout",
     "output_type": "stream",
     "text": [
      "tf.matmul(t1, t2) = tf.Tensor(\n",
      "[[220 280]\n",
      " [490 640]], shape=(2, 2), dtype=int32)\n"
     ]
    }
   ],
   "source": [
    "t1 = tf.constant([[1, 2, 3], [4, 5, 6]])\n",
    "t2 = tf.constant([[10, 20], \n",
    "                  [30, 40],\n",
    "                  [50, 60]])\n",
    "print(\"tf.matmul(t1, t2) =\", tf.matmul(t1, t2))"
   ]
  },
  {
   "cell_type": "markdown",
   "metadata": {},
   "source": [
    "#### Transposing"
   ]
  },
  {
   "cell_type": "code",
   "execution_count": 30,
   "metadata": {},
   "outputs": [
    {
     "name": "stdout",
     "output_type": "stream",
     "text": [
      "tf.transpose(t1, [1, 0]) = tf.Tensor(\n",
      "[[1 4]\n",
      " [2 5]\n",
      " [3 6]], shape=(3, 2), dtype=int32)\n",
      "\n",
      "t1_t.shape = (2, 13, 5)\n",
      "\n",
      "t1_t.shape = (13, 2, 5)\n"
     ]
    }
   ],
   "source": [
    "# tf.transpose(t, perm) hoán đổi chiều theo tham số perm\n",
    "t1 = tf.constant([[1, 2, 3], [4, 5, 6]]) # (2,3) -> (3, 2)\n",
    "print(\"tf.transpose(t1, [1, 0]) =\", tf.transpose(t1, perm=[1, 0])) \n",
    "\n",
    "t1 = tf.ones(shape=(2, 5, 13))\n",
    "t1_t = tf.transpose(t1, perm=[0, 2, 1])\n",
    "print(f\"\\nt1_t.shape = {t1_t.shape}\")\n",
    "\n",
    "# Hoán đổi nhiều hơn hai chiều cùng một lúc\n",
    "t1 = tf.ones(shape=(2, 5, 13))\n",
    "t1_t = tf.transpose(t1, perm=[2, 0, 1])\n",
    "print(f\"\\nt1_t.shape = {t1_t.shape}\")"
   ]
  },
  {
   "cell_type": "markdown",
   "metadata": {},
   "source": [
    "**Reshape** Tạo một tensor mới có cùng giá trị với tensor đã tồn tại nhưng khác shape. Yêu cầu hai tensor phải bằng nhua về kích thứơc (size)"
   ]
  },
  {
   "cell_type": "code",
   "execution_count": 32,
   "metadata": {},
   "outputs": [
    {
     "name": "stdout",
     "output_type": "stream",
     "text": [
      "t_new = tf.reshape(t, [3, 3]); t_new => \n",
      " [[1 2 3]\n",
      " [4 5 6]\n",
      " [7 8 9]]\n",
      "\n",
      "t_new = tf.reshape(t, [2, 4]); t_new => \n",
      " [[1 1 2 2]\n",
      " [3 3 4 4]]\n",
      "\n",
      "t_new = tf.reshape(t, [-1]); t_new => \n",
      " [1 1 1 2 2 2 3 3 3 4 4 4 5 5 5 6 6 6]\n",
      "\n",
      "t_new = tf.reshape(t, [2, -1]); t_new => \n",
      " [[1 1 1 2 2 2 3 3 3]\n",
      " [4 4 4 5 5 5 6 6 6]]\n",
      "\n",
      "t_new = tf.reshape(t, [-1, 9]); t_new => \n",
      " [[1 1 1 2 2 2 3 3 3]\n",
      " [4 4 4 5 5 5 6 6 6]]\n",
      "\n",
      "t_new = tf.reshape(t, [2, -1, 3]); t_new => \n",
      " [[[1 1 1]\n",
      "  [2 2 2]\n",
      "  [3 3 3]]\n",
      "\n",
      " [[4 4 4]\n",
      "  [5 5 5]\n",
      "  [6 6 6]]]\n",
      "\n",
      "t_new = tf.reshape(t, []); t_new => \n",
      " 5\n"
     ]
    }
   ],
   "source": [
    "t = tf.constant([1, 2, 3, 4, 5, 6, 7, 8, 9]) # [9]\n",
    "print(f\"t_new = tf.reshape(t, [3, 3]); t_new => \\n {tf.reshape(t, [3, 3])}\")\n",
    "\n",
    "t = tf.constant([[[1, 1], [2, 2]],\n",
    "                [[3, 3], [4, 4]]]) # [2, 2, 2]\n",
    "print(f\"\\nt_new = tf.reshape(t, [2, 4]); t_new => \\n {tf.reshape(t, [2, 4])}\")\n",
    "\n",
    "# -1 được sử dụng để tự động tính shape\n",
    "t = tf.constant([[[1, 1, 1],\n",
    "                 [2, 2, 2]],\n",
    "                [[3, 3, 3],\n",
    "                 [4, 4, 4]],\n",
    "                [[5, 5, 5],\n",
    "                 [6, 6, 6]]]) # [3, 2, 3]\n",
    "\n",
    "# -1 => 18\n",
    "print(f\"\\nt_new = tf.reshape(t, [-1]); t_new => \\n {tf.reshape(t, [-1])}\")\n",
    "# -1 => 9\n",
    "print(f\"\\nt_new = tf.reshape(t, [2, -1]); t_new => \\n {tf.reshape(t, [2, -1])}\")\n",
    "# -1 => 2\n",
    "print(f\"\\nt_new = tf.reshape(t, [-1, 9]); t_new => \\n {tf.reshape(t, [-1, 9])}\")\n",
    "# -1 => 3\n",
    "print(f\"\\nt_new = tf.reshape(t, [2, -1, 3]); t_new => \\n {tf.reshape(t, [2, -1, 3])}\")\n",
    "\n",
    "# Chuyển một giá trị vô hướng bằng cáchsử dụng []\n",
    "t = tf.constant([5])\n",
    "print(f\"\\nt_new = tf.reshape(t, []); t_new => \\n {tf.reshape(t, [])}\")"
   ]
  },
  {
   "cell_type": "markdown",
   "metadata": {},
   "source": [
    "#### Combining Tensors"
   ]
  },
  {
   "cell_type": "code",
   "execution_count": 33,
   "metadata": {},
   "outputs": [
    {
     "name": "stdout",
     "output_type": "stream",
     "text": [
      "tf.concat([t1, t2, t3], axis=0) = \n",
      "[[1 1 1]\n",
      " [1 1 1]\n",
      " [2 2 2]\n",
      " [2 2 2]\n",
      " [3 3 3]\n",
      " [3 3 3]]\n",
      "\n",
      "tf.concat([t1, t2, t3], axis=1) = \n",
      "[[1 1 1 2 2 2 3 3 3]\n",
      " [1 1 1 2 2 2 3 3 3]]\n"
     ]
    }
   ],
   "source": [
    "\n",
    "t1 = tf.constant([[1, 1, 1], [1, 1, 1]]) # [2, 3]\n",
    "t2 = tf.constant([[2, 2, 2], [2, 2, 2]]) # [2, 3]\n",
    "t3 = tf.constant([[3, 3, 3], [3, 3, 3]]) # [2, 3]\n",
    "\n",
    "print(f\"tf.concat([t1, t2, t3], axis=0) = \\n{tf.concat([t1, t2, t3], axis=0)}\") # [6, 3]\n",
    "print(f\"\\ntf.concat([t1, t2, t3], axis=1) = \\n{tf.concat([t1, t2, t3], axis=1)}\") # [2, 9]"
   ]
  },
  {
   "cell_type": "code",
   "execution_count": 34,
   "metadata": {},
   "outputs": [
    {
     "name": "stdout",
     "output_type": "stream",
     "text": [
      "tf.stack([t1, t2, t3], axis=0) = \n",
      "[[1 1 1 1]\n",
      " [2 2 2 2]\n",
      " [3 3 3 3]]\n",
      "\n",
      "tf.stack([t1, t2, t3], axis=1) = \n",
      "[[1 2 3]\n",
      " [1 2 3]\n",
      " [1 2 3]\n",
      " [1 2 3]]\n"
     ]
    }
   ],
   "source": [
    "t1 = tf.constant([1, 1, 1, 1])\n",
    "t2 = tf.constant([2, 2, 2, 2])\n",
    "t3 = tf.constant([3, 3, 3, 3])\n",
    "\n",
    "print(f\"tf.stack([t1, t2, t3], axis=0) = \\n{tf.stack([t1, t2, t3], axis=0)}\")\n",
    "print(f\"\\ntf.stack([t1, t2, t3], axis=1) = \\n{tf.stack([t1, t2, t3], axis=1)}\")"
   ]
  },
  {
   "cell_type": "markdown",
   "metadata": {},
   "source": [
    "#### Slicing and Indexing"
   ]
  },
  {
   "cell_type": "code",
   "execution_count": 37,
   "metadata": {},
   "outputs": [
    {
     "name": "stdout",
     "output_type": "stream",
     "text": [
      "t1 = tf.Tensor(\n",
      "[[[7 7 9 9]\n",
      "  [0 0 3 3]\n",
      "  [3 0 7 3]]\n",
      "\n",
      " [[9 3 1 9]\n",
      "  [8 7 0 7]\n",
      "  [0 6 1 6]]], shape=(2, 3, 4), dtype=int32)\n",
      "\n",
      "t2 = tf.Tensor(\n",
      "[[9 7 2 1 7 8]\n",
      " [7 6 9 6 9 3]\n",
      " [8 4 6 6 9 9]\n",
      " [7 3 3 2 9 8]\n",
      " [0 0 9 7 1 9]], shape=(5, 6), dtype=int32)\n"
     ]
    }
   ],
   "source": [
    "t = tf.random.uniform(shape=[4, 5, 6, 7], maxval=10, dtype=tf.int32)\n",
    "\n",
    "# giống như Python lists và Numpy arrays\n",
    "t1 = t[1:3, 0, 3:, -2:-6:-1]\n",
    "print(\"t1 =\", t1)\n",
    "\n",
    "# giống t[0, 0, :, :]\n",
    "t2 = t[0, :, :, 0]\n",
    "print(\"\\nt2 =\", t2)"
   ]
  },
  {
   "cell_type": "markdown",
   "metadata": {},
   "source": [
    "#### Reducing"
   ]
  },
  {
   "cell_type": "code",
   "execution_count": 38,
   "metadata": {},
   "outputs": [
    {
     "name": "stdout",
     "output_type": "stream",
     "text": [
      "tf.reduce_sum(t) = tf.Tensor(20, shape=(), dtype=int32)\n",
      "tf.reduce_sum(t, axis=0) = tf.Tensor([2 4 6 8], shape=(4,), dtype=int32)\n",
      "tf.reduce_sum(t, axis=1) = tf.Tensor([10 10], shape=(2,), dtype=int32)\n",
      "\n",
      "t1 = tf.Tensor(\n",
      "[[8 2 3 6]\n",
      " [2 4 9 4]\n",
      " [7 1 8 1]], shape=(3, 4), dtype=int32)\n",
      "tf.reduce_min(t1) = tf.Tensor(1, shape=(), dtype=int32)\n",
      "tf.reduce_max(t1) = tf.Tensor(9, shape=(), dtype=int32)\n",
      "tf.reduce_mean(t1) = tf.Tensor(4, shape=(), dtype=int32)\n"
     ]
    }
   ],
   "source": [
    "t = tf.constant([[1, 2, 3, 4], \n",
    "                 [1, 2, 3, 4]])\n",
    "\n",
    "# Tổng tất cả các phần tử\n",
    "print(\"tf.reduce_sum(t) =\", tf.math.reduce_sum(t))\n",
    "\n",
    "# Tổng cột\n",
    "print(\"tf.reduce_sum(t, axis=0) =\", tf.math.reduce_sum(t, axis=0))\n",
    "\n",
    "# Tổng hàng\n",
    "print(\"tf.reduce_sum(t, axis=1) =\", tf.math.reduce_sum(t, axis=1))\n",
    "\n",
    "t1 = tf.random.uniform(shape=[3, 4], maxval=10, dtype=tf.int32)\n",
    "print(\"\\nt1 =\",t1)\n",
    "print(\"tf.reduce_min(t1) =\", tf.math.reduce_min(t1))\n",
    "print(\"tf.reduce_max(t1) =\", tf.math.reduce_max(t1))\n",
    "print(\"tf.reduce_mean(t1) =\", tf.math.reduce_mean(t1))"
   ]
  }
 ],
 "metadata": {
  "kernelspec": {
   "display_name": "Python 3",
   "language": "python",
   "name": "python3"
  },
  "language_info": {
   "codemirror_mode": {
    "name": "ipython",
    "version": 3
   },
   "file_extension": ".py",
   "mimetype": "text/x-python",
   "name": "python",
   "nbconvert_exporter": "python",
   "pygments_lexer": "ipython3",
   "version": "3.6.9"
  }
 },
 "nbformat": 4,
 "nbformat_minor": 4
}
