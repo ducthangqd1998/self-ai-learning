{
 "cells": [
  {
   "cell_type": "markdown",
   "metadata": {},
   "source": [
    "### Support Vector Machine\n",
    "\n",
    "Support Vector Machine (SVM) là một trong những thuật toán mạnh mẽ cũng như được sử dụng phổ biến nhất trong Machine Learning. Ý tưởng chủ đạo của SVM là xây dựng một bộ phân lớp nhằm tối đa khoảng cách tối thiểu từ mỗi lớp tới siêu phằng phân chia. Nói cách khác với dữ liệu huấn luyện được gắn nhãn (học có giám sát), thuật toán sẽ tạo ra một mặt phẳng phân chia các mẫu mới. Trong không gian hai chiều (mặt phẳng) thì siêu mặt phẳng là một đường thẳng phân chia mặt phẳng thành hai phần, mỗi lớp nằm một bên."
   ]
  },
  {
   "cell_type": "markdown",
   "metadata": {},
   "source": [
    "<table><tr>\n",
    "<td> <img src=\"https://miro.medium.com/max/600/1*BpeH5_M58kJ5xXfwzxI8yA.png\" alt=\"Drawing\" style=\"width: 500px;\"/> </td>\n",
    "<td> <img src=\"https://miro.medium.com/max/600/1*Sg6wjASoZHPphF10tcPZGg.png\" alt=\"Drawing\" style=\"width: 500px;\"/> </td>\n",
    "</tr></table>"
   ]
  },
  {
   "cell_type": "markdown",
   "metadata": {},
   "source": [
    "<table><tr>\n",
    "<td> <img src=\"https://miro.medium.com/max/600/1*C3j5m3E3KviEApHKleILZQ.png\" alt=\"Drawing\" style=\"width: 500px;\"/> </td>\n",
    "<td> <img src=\"https://miro.medium.com/max/600/1*FLolUnVUjqV0EGm3CYBPLw.png\" alt=\"Drawing\" style=\"width: 500px;\"/> </td>\n",
    "</tr></table>\n",
    "\n",
    "Khi xem xét ví dụ trên đây thì không hề tồn tại một đường thẳng nào có thể ngăn cách hai loại dữ liệu trên (hình vuông và hình tròn). Do đó ta sẽ phải sinh thêm một chiều nữa là trục $z$. Giả sử giá trị của các điểm trên mặt phẳng $z$, $w = x^2 + y^2$. Như vậy ta có thể sử dụng nó như là khoảng cách từ điểm gốc của trục $z$, có thể nhìn thấy sự phân tách rõ ràng bằng một đường thằng được vẻ với góc nhìn là trục $z$ như hình bên phải."
   ]
  },
  {
   "cell_type": "markdown",
   "metadata": {},
   "source": [
    "Khi chúng ta chuyển về hình dạng đầu thì vùng mặt phẳng phân cách có hình tròn.\n",
    "<td> <img src=\"https://miro.medium.com/max/600/1*NN5VCpVg9gPCLYrDl0YFYw.png\" alt=\"Drawing\" style=\"width: 500px;\"/> </td>"
   ]
  },
  {
   "cell_type": "markdown",
   "metadata": {},
   "source": [
    "Một trường hợp phức tạp hơn, nếu ta sử dụng đường thẳng thì một số điểm màu đen sẽ bị dự đoán sai. Còn hình thứ hai đã xây dựng được một đường hoàn hảo cho phép phân loại một cách chính xác giữa các điểm dữ liệu. Nhưng trong thực tế, việc có thể dự đoán chính xác cho hàng triệu điểm dữ liệu là rất khó khăn và mất rất nhiều thời gian. Chúng ta sẽ làm quen với các tham số regularization, những tham số điều chỉnh mô hình SVM giúp tăng độ chính xác \n",
    "\n",
    "<table><tr>\n",
    "<td> <img src=\"https://miro.medium.com/max/600/1*fv8DDZLaR0t7SO-W6tdDAg.png\" alt=\"Drawing\" style=\"width: 500px;\"/> </td>\n",
    "<td> <img src=\"https://miro.medium.com/max/500/1*1dwut8cWQ-39POHV48tv4w.png\" alt=\"Drawing\" style=\"width: 500px;\"/> </td>\n",
    "</tr></table>\n",
    "\n",
    "\n",
    "<table><tr>\n",
    "<td> <img src=\"https://miro.medium.com/max/600/1*fv8DDZLaR0t7SO-W6tdDAg.png\" alt=\"Drawing\" style=\"width: 500px;\"/> </td>\n",
    "<td> <img src=\"https://miro.medium.com/max/500/1*gt_dkcA5p0ZTHjIpq1qnLQ.png\" alt=\"Drawing\" style=\"width: 500px;\"/> </td>\n",
    "</tr></table>"
   ]
  },
  {
   "cell_type": "markdown",
   "metadata": {},
   "source": [
    "### Regularization"
   ]
  },
  {
   "cell_type": "markdown",
   "metadata": {},
   "source": [
    "Tham số Regularization (C) cho biết mức độ tối ưu hóa mà ta muốn để tránh phân loại sai từng ví dụ huấn luyện.\n",
    "Nếu C lớn, việc tối ưu hóa sẽ chọn ra một siêu mặt phẳng có phân tách lề nhỏ hơn nếu siêu mặt phẳng đó có thể dự đoán chính xác nhiều điểm hơn. Ngược lại thì quá trình tối ưu hóa tạo ra siêu mặt phẳng sẽ phân tách lề lớn hơn, ngay cả khi dự đoán thiếu chính xác hơn.\n",
    "<table><tr>\n",
    "<td> <img src=\"https://miro.medium.com/max/500/1*1dwut8cWQ-39POHV48tv4w.png\" alt=\"Drawing\" style=\"width: 500px;\"/> </td>\n",
    "<td> <img src=\"https://miro.medium.com/max/500/1*gt_dkcA5p0ZTHjIpq1qnLQ.png\" alt=\"Drawing\" style=\"width: 500px;\"/> </td>\n",
    "</tr></table>"
   ]
  },
  {
   "cell_type": "markdown",
   "metadata": {},
   "source": [
    "### Gamma\n",
    "\n",
    "Tham số gamma xác định mức độ ảnh hưởng của một điểm huấn luyện duy nhất đến mặt phẳng là khoảng cách bao nhiêu? Với các giá trị có nghĩa là xa (far) và gần (close). Nói cách khác gamma mà thấp, Các điểm ở xa sẽ được đường phân tách (tạm gọi cho siêu mặt phẳng) sẽ được xem xét tính toán cho đường phân tách. Và ngược lại.\n",
    "\n",
    "<table><tr>\n",
    "<td> <img src=\"https://miro.medium.com/max/600/1*dGDQxV8j83VB90skHsXktw.png\" alt=\"Drawing\" style=\"width: 500px;\"/> </td>\n",
    "<td> <img src=\"https://miro.medium.com/max/600/1*ClmsnU_yb1YtIwAAr7krmg.png\" alt=\"Drawing\" style=\"width: 500px;\"/> </td>\n",
    "</tr></table>"
   ]
  },
  {
   "cell_type": "markdown",
   "metadata": {},
   "source": [
    "### Margin\n",
    "\n",
    "Margin là khoảng cách của các điểm gần nhất đến với đường phân tách.\n",
    "<table><tr>\n",
    "<td> <img src=\"https://miro.medium.com/max/600/1*Ftns0ebfUHJDdpWt3Wvp-Q.png\" alt=\"Drawing\" style=\"width: 500px;\"/> </td>\n",
    "<td> <img src=\"https://miro.medium.com/max/600/1*NbGV1iEtNuklACNUv74w7A.png\" alt=\"Drawing\" style=\"width: 500px;\"/> </td>\n",
    "</tr></table>"
   ]
  }
 ],
 "metadata": {
  "kernelspec": {
   "display_name": "Python 3",
   "language": "python",
   "name": "python3"
  },
  "language_info": {
   "codemirror_mode": {
    "name": "ipython",
    "version": 3
   },
   "file_extension": ".py",
   "mimetype": "text/x-python",
   "name": "python",
   "nbconvert_exporter": "python",
   "pygments_lexer": "ipython3",
   "version": "3.6.9"
  }
 },
 "nbformat": 4,
 "nbformat_minor": 4
}
