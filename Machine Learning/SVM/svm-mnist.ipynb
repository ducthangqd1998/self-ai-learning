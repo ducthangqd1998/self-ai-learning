{
 "cells": [
  {
   "cell_type": "code",
   "execution_count": 109,
   "metadata": {},
   "outputs": [],
   "source": [
    "import matplotlib.pyplot as plt\n",
    "import numpy as np\n",
    "from sklearn import datasets, svm, metrics\n",
    "from sklearn.model_selection import train_test_split"
   ]
  },
  {
   "cell_type": "code",
   "execution_count": 110,
   "metadata": {},
   "outputs": [],
   "source": [
    "def get_images(img_file, number):\n",
    "    f = open(img_file, \"rb\") # Open file in binary mode\n",
    "    f.read(16) # Skip 16 bytes header\n",
    "    images = []\n",
    "\n",
    "    for i in range(number):\n",
    "        image = []\n",
    "        for j in range(28*28):\n",
    "            image.append(ord(f.read(1)))\n",
    "        images.append(image)\n",
    "    return images\n",
    "\n",
    "def get_labels(label_file, number):\n",
    "    l = open(label_file, \"rb\") # Open file in binary mode\n",
    "    l.read(8) # Skip 8 bytes header\n",
    "    labels = []\n",
    "    for i in range(number):\n",
    "        labels.append(ord(l.read(1)))\n",
    "    return labels"
   ]
  },
  {
   "cell_type": "code",
   "execution_count": 111,
   "metadata": {},
   "outputs": [],
   "source": [
    "train_images = np.array(train_images)/255"
   ]
  },
  {
   "cell_type": "code",
   "execution_count": 112,
   "metadata": {},
   "outputs": [
    {
     "name": "stdout",
     "output_type": "stream",
     "text": [
      "TRAIN\n"
     ]
    },
    {
     "data": {
      "text/plain": [
       "SVC(C=1.0, break_ties=False, cache_size=200, class_weight=None, coef0=0.0,\n",
       "    decision_function_shape='ovr', degree=3, gamma='scale', kernel='rbf',\n",
       "    max_iter=-1, probability=False, random_state=None, shrinking=True,\n",
       "    tol=0.001, verbose=False)"
      ]
     },
     "execution_count": 112,
     "metadata": {},
     "output_type": "execute_result"
    }
   ],
   "source": [
    "print(\"TRAIN\")\n",
    "TRAINING_SIZE = 10000\n",
    "train_images = get_images(\"data/train-images-idx3-ubyte\", TRAINING_SIZE)\n",
    "train_images = np.array(train_images)/255\n",
    "train_labels = get_labels(\"data/train-labels-idx1-ubyte\", TRAINING_SIZE)\n",
    "\n",
    "clf = svm.SVC()\n",
    "clf.fit(train_images, train_labels)"
   ]
  },
  {
   "cell_type": "code",
   "execution_count": 113,
   "metadata": {},
   "outputs": [
    {
     "name": "stdout",
     "output_type": "stream",
     "text": [
      "PREDICT\n",
      "RESULT\n",
      "Score =  0.956\n",
      "              precision    recall  f1-score   support\n",
      "\n",
      "           0       0.93      0.98      0.95        42\n",
      "           1       1.00      1.00      1.00        67\n",
      "           2       0.98      0.96      0.97        55\n",
      "           3       0.93      0.91      0.92        45\n",
      "           4       0.93      0.98      0.96        55\n",
      "           5       0.92      0.94      0.93        50\n",
      "           6       0.98      0.93      0.95        43\n",
      "           7       0.94      0.96      0.95        49\n",
      "           8       0.93      0.97      0.95        40\n",
      "           9       1.00      0.91      0.95        54\n",
      "\n",
      "    accuracy                           0.96       500\n",
      "   macro avg       0.95      0.95      0.95       500\n",
      "weighted avg       0.96      0.96      0.96       500\n",
      "\n"
     ]
    }
   ],
   "source": [
    "TEST_SIZE = 500\n",
    "test_images = get_images(\"data/t10k-images-idx3-ubyte\", TEST_SIZE)\n",
    "test_images = np.array(test_images)/255\n",
    "test_labels = get_labels(\"data/t10k-labels-idx1-ubyte\", TEST_SIZE)\n",
    "\n",
    "print(\"PREDICT\")\n",
    "predict = clf.predict(test_images)\n",
    "\n",
    "print(\"RESULT\")\n",
    "ac_score = metrics.accuracy_score(test_labels, predict)\n",
    "cl_report = metrics.classification_report(test_labels, predict)\n",
    "print(\"Score = \", ac_score)\n",
    "print(cl_report)"
   ]
  },
  {
   "cell_type": "code",
   "execution_count": 114,
   "metadata": {},
   "outputs": [
    {
     "data": {
      "text/plain": [
       "['mnist-svm.joblib']"
      ]
     },
     "execution_count": 114,
     "metadata": {},
     "output_type": "execute_result"
    }
   ],
   "source": [
    "from joblib import dump, load\n",
    "dump(clf, 'mnist-svm.joblib')"
   ]
  },
  {
   "cell_type": "code",
   "execution_count": 115,
   "metadata": {},
   "outputs": [],
   "source": [
    "clf = load('mnist-svm.joblib')"
   ]
  },
  {
   "cell_type": "code",
   "execution_count": null,
   "metadata": {},
   "outputs": [],
   "source": []
  },
  {
   "cell_type": "code",
   "execution_count": null,
   "metadata": {},
   "outputs": [],
   "source": []
  }
 ],
 "metadata": {
  "kernelspec": {
   "display_name": "Python 3",
   "language": "python",
   "name": "python3"
  },
  "language_info": {
   "codemirror_mode": {
    "name": "ipython",
    "version": 3
   },
   "file_extension": ".py",
   "mimetype": "text/x-python",
   "name": "python",
   "nbconvert_exporter": "python",
   "pygments_lexer": "ipython3",
   "version": "3.6.9"
  }
 },
 "nbformat": 4,
 "nbformat_minor": 4
}
